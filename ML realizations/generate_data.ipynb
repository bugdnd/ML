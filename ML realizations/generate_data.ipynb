{
 "cells": [
  {
   "cell_type": "code",
   "execution_count": 24,
   "metadata": {},
   "outputs": [],
   "source": [
    "import numpy as np\n",
    "import random"
   ]
  },
  {
   "cell_type": "code",
   "execution_count": 25,
   "metadata": {},
   "outputs": [],
   "source": [
    "number_of_features= 5"
   ]
  },
  {
   "cell_type": "code",
   "execution_count": 26,
   "metadata": {},
   "outputs": [],
   "source": [
    "class polynom:\n",
    "    def __init__(self, number_of_x=1, max_members=10, max_power=2, max_koef=100):\n",
    "        self.matrix = []\n",
    "        for j in range(random.randint(0, max_members)):\n",
    "            k = [random.randint(0, max_power) for i in range(number_of_x)]\n",
    "            a = random.randint(1, max_koef)\n",
    "            self.matrix.append([a] + k)\n",
    "            member_str = str(a)\n",
    "            for i, power in enumerate(k):\n",
    "                if power > 0:\n",
    "                    if member_str != '':\n",
    "                        member_str += ' * '\n",
    "                    member_str += 'x' + str(i)\n",
    "                    if power >= 2:\n",
    "                        member_str = member_str + '^' + str(power)\n",
    "                        \n",
    "            print(member_str)\n",
    "        return None\n",
    "    def calculate(self, x):\n",
    "        x = list(x)\n",
    "        summa = 0\n",
    "        for row in self.matrix:\n",
    "            member = row[0]\n",
    "            list_degrees = row[1::]\n",
    "            for i, power in enumerate(list_degrees):\n",
    "                member *= float(x[i])**power\n",
    "            summa += member\n",
    "        return summa"
   ]
  },
  {
   "cell_type": "code",
   "execution_count": 27,
   "metadata": {},
   "outputs": [],
   "source": [
    "# симуляция input\n",
    "class my_input:\n",
    "    def __init__(self, poly):\n",
    "        self.i = 0\n",
    "        self.poly = poly\n",
    "        self.len = len(poly.matrix[0]) - 1\n",
    "\n",
    "    def generate_x(self):\n",
    "        return np.random.random()\n",
    "    \n",
    "    def input(self):     \n",
    "        self.i += 1\n",
    "        row = [self.generate_x() for i in range(self.len)]\n",
    "        out = '\\t'.join([str(x) for x in row])\n",
    "        out += '\\t' + str(self.poly.calculate(row))\n",
    "        return out\n",
    "        \n",
    "    def input_test(self):     \n",
    "        self.i += 1\n",
    "        row = [self.generate_x() for i in range(self.len)]\n",
    "        out = '\\t'.join([str(x) for x in row])\n",
    "        #out += '\\t' + str(self.poly.calculate(row))\n",
    "        return out"
   ]
  },
  {
   "cell_type": "code",
   "execution_count": 28,
   "metadata": {},
   "outputs": [
    {
     "name": "stdout",
     "output_type": "stream",
     "text": [
      "7 * x0 * x1 * x2 * x4\n"
     ]
    }
   ],
   "source": [
    "for i in range(10):\n",
    "    poly = polynom(number_of_x=number_of_features, max_members=4, max_power=1, max_koef=10)\n",
    "    if poly.matrix != []:\n",
    "        break"
   ]
  },
  {
   "cell_type": "code",
   "execution_count": 29,
   "metadata": {},
   "outputs": [],
   "source": [
    "# X = np.random.randint(1, 11, (1000, number_of_features)).astype('float')\n",
    "X = np.random.random((1000, number_of_features))"
   ]
  },
  {
   "cell_type": "code",
   "execution_count": 30,
   "metadata": {},
   "outputs": [],
   "source": [
    "inp = my_input(poly)\n",
    "\n",
    "with open('input.txt', 'w') as f:\n",
    "    for i in range(1000):\n",
    "        f.write(inp.input()+'\\n')\n",
    "    \n",
    "    right_answers = []\n",
    "    for i in range(1000):\n",
    "        text = inp.input()\n",
    "        f.write('\\t'.join(text.split('\\t')[:-1]) + '\\n')\n",
    "        right_answers += [text.split('\\t')[-1]]\n",
    "\n",
    "with open('answers.txt', 'w') as f:\n",
    "    for y in right_answers:\n",
    "        f.write(y + '\\n')"
   ]
  }
 ],
 "metadata": {
  "kernelspec": {
   "display_name": "practicum",
   "language": "python",
   "name": "python3"
  },
  "language_info": {
   "codemirror_mode": {
    "name": "ipython",
    "version": 3
   },
   "file_extension": ".py",
   "mimetype": "text/x-python",
   "name": "python",
   "nbconvert_exporter": "python",
   "pygments_lexer": "ipython3",
   "version": "3.9.16"
  }
 },
 "nbformat": 4,
 "nbformat_minor": 2
}
