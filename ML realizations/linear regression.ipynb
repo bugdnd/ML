{
 "cells": [
  {
   "cell_type": "code",
   "execution_count": 1,
   "id": "7a6c1aaf",
   "metadata": {},
   "outputs": [],
   "source": [
    "import numpy as np\n",
    "import matplotlib.pyplot as plt"
   ]
  },
  {
   "cell_type": "markdown",
   "id": "30a7f359",
   "metadata": {},
   "source": [
    "## Линейная регрессия для множественных фичей"
   ]
  },
  {
   "cell_type": "markdown",
   "id": "27ea2b01",
   "metadata": {},
   "source": [
    "### Класс линейной регрессии (аналитическое решение)"
   ]
  },
  {
   "cell_type": "code",
   "execution_count": 2,
   "id": "a846daab",
   "metadata": {},
   "outputs": [],
   "source": [
    "class linear_regression:\n",
    "    def __init__(self):\n",
    "        return None\n",
    "    def fit(self, x, y):\n",
    "        X = np.array(x).astype('float64')\n",
    "        Y = np.array(y).astype('float64')\n",
    "        self.weight = np.linalg.inv(X.T.dot(X)).dot(X.T).dot(Y)\n",
    "        return True\n",
    "    def predict(self, x):\n",
    "        X = np.array(x)\n",
    "        Y = X.dot(self.weight)\n",
    "        return Y\n",
    "    def mean_squared_error(self, y_true, y_pred):\n",
    "        mse = np.average((y_true - y_pred) ** 2, axis=0)\n",
    "        return mse"
   ]
  },
  {
   "cell_type": "code",
   "execution_count": 3,
   "id": "23ab67ec",
   "metadata": {},
   "outputs": [],
   "source": [
    "def transform_features(X, max_power=2):\n",
    "    d = X.shape[1]\n",
    "\n",
    "    f_powered = np.ones((X.shape), dtype='int64')\n",
    "    for p in range(1, max_power+1):\n",
    "        f_powered = np.column_stack((f_powered, X ** p))\n",
    "\n",
    "    def recursion(factor, X_transformed, i=0):\n",
    "        for j in range(i, i + d*(p + 1), d):\n",
    "            product = factor * f_powered[:, j]\n",
    "            if i < (d - 1):\n",
    "                X_transformed = recursion(product, X_transformed, i + 1)\n",
    "            else:\n",
    "                X_transformed = np.column_stack((X_transformed, product))\n",
    "        return X_transformed\n",
    "\n",
    "    return recursion(f_powered[:, 0], np.ones((X.shape[0], 1), dtype='int')[:, 1:])"
   ]
  },
  {
   "cell_type": "code",
   "execution_count": 4,
   "id": "2707b415",
   "metadata": {},
   "outputs": [],
   "source": [
    "X = []\n",
    "X_test = []\n",
    "Y = []\n",
    "with open('input.txt', 'r') as f:\n",
    "    for i in range(1000):\n",
    "        in_str = f.readline().split('\\t')\n",
    "        X += [list(map(float, in_str))[:-1]]\n",
    "        Y += list(map(float, in_str))[-1:]\n",
    "    for i in range(1000):\n",
    "        in_str = f.readline().split('\\t')\n",
    "        X_test += [list(map(float, in_str))]\n"
   ]
  },
  {
   "cell_type": "code",
   "execution_count": 5,
   "id": "369c73c5",
   "metadata": {},
   "outputs": [],
   "source": [
    "X = np.array(X)\n",
    "X_test = np.array(X_test)\n",
    "\n",
    "features_train = X\n",
    "features_test = X_test\n",
    "target_train = Y\n",
    "\n",
    "model = linear_regression()\n",
    "model.fit(features_train, target_train)\n",
    "\n",
    "predict = model.predict(features_test)\n",
    "\n",
    "# разкомментить для вывода ответов модели\n",
    "# for target in predict:\n",
    "# \tprint(target)"
   ]
  },
  {
   "cell_type": "code",
   "execution_count": 6,
   "id": "0a257515",
   "metadata": {},
   "outputs": [
    {
     "data": {
      "text/plain": [
       "array([[0.71783647, 0.18442273, 0.60849903, 0.51268666, 0.27371875]])"
      ]
     },
     "execution_count": 6,
     "metadata": {},
     "output_type": "execute_result"
    }
   ],
   "source": [
    "np.array([X[0]])"
   ]
  },
  {
   "cell_type": "code",
   "execution_count": 7,
   "id": "1d458d99",
   "metadata": {},
   "outputs": [
    {
     "data": {
      "text/plain": [
       "array([[1.        , 0.27371875, 0.51268666, 0.14033195, 0.60849903,\n",
       "        0.16655759, 0.31196933, 0.08539186, 0.18442273, 0.05047996,\n",
       "        0.09455107, 0.0258804 , 0.11222105, 0.03071701, 0.05753424,\n",
       "        0.0157482 , 0.71783647, 0.1964853 , 0.36802518, 0.10073539,\n",
       "        0.43680279, 0.11956111, 0.22394296, 0.06129739, 0.13238536,\n",
       "        0.03623636, 0.06787221, 0.0185779 , 0.08055636, 0.02204979,\n",
       "        0.04130017, 0.01130463]])"
      ]
     },
     "execution_count": 7,
     "metadata": {},
     "output_type": "execute_result"
    }
   ],
   "source": [
    "transform_features(np.array([X[0]]), max_power=1)"
   ]
  },
  {
   "cell_type": "code",
   "execution_count": 8,
   "id": "e9222d20",
   "metadata": {},
   "outputs": [],
   "source": [
    "X = np.array(X)\n",
    "X_test = np.array(X_test)\n",
    "\n",
    "trans_features_train = transform_features(X, max_power=1)\n",
    "trans_features_test = transform_features(X_test, max_power=1)\n",
    "target_train = Y\n",
    "\n",
    "model = linear_regression()\n",
    "model.fit(trans_features_train, target_train)\n",
    "\n",
    "predict = model.predict(trans_features_test)"
   ]
  },
  {
   "cell_type": "code",
   "execution_count": 9,
   "id": "3b160a8c",
   "metadata": {},
   "outputs": [],
   "source": [
    "target_test = []\n",
    "with open('answers.txt', 'r') as f:\n",
    "    for line in f:\n",
    "        target_test += [float(line)]"
   ]
  },
  {
   "cell_type": "code",
   "execution_count": 10,
   "id": "1e31e418",
   "metadata": {},
   "outputs": [
    {
     "name": "stdout",
     "output_type": "stream",
     "text": [
      "mse\n",
      " 3.0586633893333658e-24\n"
     ]
    }
   ],
   "source": [
    "print('mse\\n',model.mean_squared_error(target_test, predict))"
   ]
  }
 ],
 "metadata": {
  "kernelspec": {
   "display_name": "Python 3 (ipykernel)",
   "language": "python",
   "name": "python3"
  },
  "language_info": {
   "codemirror_mode": {
    "name": "ipython",
    "version": 3
   },
   "file_extension": ".py",
   "mimetype": "text/x-python",
   "name": "python",
   "nbconvert_exporter": "python",
   "pygments_lexer": "ipython3",
   "version": "3.9.16"
  },
  "toc": {
   "base_numbering": 1,
   "nav_menu": {},
   "number_sections": true,
   "sideBar": true,
   "skip_h1_title": true,
   "title_cell": "Оглавление",
   "title_sidebar": "Contents",
   "toc_cell": false,
   "toc_position": {},
   "toc_section_display": true,
   "toc_window_display": true
  }
 },
 "nbformat": 4,
 "nbformat_minor": 5
}
