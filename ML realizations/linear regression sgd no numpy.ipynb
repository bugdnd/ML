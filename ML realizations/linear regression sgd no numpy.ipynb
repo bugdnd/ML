{
 "cells": [
  {
   "cell_type": "code",
   "execution_count": 14,
   "metadata": {},
   "outputs": [],
   "source": [
    "def v_dot_v(v1, v2):\n",
    "    result_scalar = 0\n",
    "    for i in range(len(v1)):\n",
    "        result_scalar += v1[i]*v2[i]\n",
    "    return result_scalar\n",
    "\n",
    "def m_dot_v(matrix, vector):\n",
    "    return [v_dot_v(v1, vector) for v1 in matrix]\n",
    "\n",
    "def v_mean(list):\n",
    "    m = 0\n",
    "    for a in list:\n",
    "        m += a\n",
    "    return m/len(list)"
   ]
  },
  {
   "cell_type": "code",
   "execution_count": 15,
   "metadata": {},
   "outputs": [],
   "source": [
    "class random:\n",
    "    def __init__(self, seed=1):\n",
    "        self.seed = seed\n",
    "        return None\n",
    "    def next_seed(self):\n",
    "        self.seed = (self.seed * 73129 + 95121) % 100000\n",
    "        return self.seed\n",
    "\n",
    "    def random(self):\n",
    "        return self.next_seed() / 100000\n",
    "    def randint(self, limit=10):\n",
    "        '''10000 max'''\n",
    "        return self.next_seed() // 10 % limit\n",
    "\n",
    "randomizer = random()"
   ]
  },
  {
   "cell_type": "code",
   "execution_count": 16,
   "metadata": {},
   "outputs": [],
   "source": [
    "size = 1000\n",
    "\n",
    "n_features = 15\n",
    "\n",
    "x = [[randomizer.random() for x in range(n_features)] for y in range(size)]\n",
    "w = [randomizer.random() for x in range(n_features)]\n",
    "\n",
    "y = [1 + v_dot_v(v1, w) + .1*randomizer.random() for v1 in x]\n",
    "#y = [1 + v_dot_v(v1, w) for v1 in x]"
   ]
  },
  {
   "cell_type": "code",
   "execution_count": 17,
   "metadata": {},
   "outputs": [],
   "source": [
    "x_train, y_train = x, y"
   ]
  },
  {
   "cell_type": "code",
   "execution_count": 18,
   "metadata": {},
   "outputs": [],
   "source": [
    "x_train = [[1] + x for x in x_train]\n",
    "n_features += 1"
   ]
  },
  {
   "cell_type": "markdown",
   "metadata": {},
   "source": [
    "### GD без numpy"
   ]
  },
  {
   "cell_type": "code",
   "execution_count": 32,
   "metadata": {},
   "outputs": [
    {
     "name": "stdout",
     "output_type": "stream",
     "text": [
      "[0.60441, 0.8501, 0.91411, 0.9014, 0.43181, 0.7847, 0.27751, 0.98, 0.37121, 0.1673, 0.43291, 0.2266, 0.98261, 0.2379, 0.34031, 0.4812]\n",
      "mse 0.2585574038202678\n",
      "mse 0.048445552503428344\n",
      "mse 0.011037036756317254\n",
      "mse 0.003809669739014025\n",
      "mse 0.002157624510288853\n",
      "mse 0.001622207534647173\n",
      "mse 0.001361745265347767\n",
      "mse 0.0012003324575415246\n",
      "mse 0.0010908971837253554\n",
      "mse 0.0010146690831636766\n",
      "1 [0.4325, 0.24371, 0.2198, 0.70541, 0.8791, 0.65511, 0.4904, 0.41281, 0.3337, 0.09851, 0.889, 0.63221, 0.8363, 0.73391, 0.0556]\n",
      "[0.9763805701191922, 0.441793024937163, 0.2532065718567408, 0.2327087438659267, 0.7151546883493021, 0.8885127701061147, 0.6632324281517641, 0.49936194492114533, 0.4197135281320927, 0.33945471809906, 0.11459841575012289, 0.8993183048423748, 0.6394109089015827, 0.8460601365174745, 0.7447198154032021, 0.06507969073218525]\n"
     ]
    }
   ],
   "source": [
    "b = [randomizer.random() for i in range(n_features)]\n",
    "\n",
    "print(b)\n",
    "\n",
    "lr = .01\n",
    "n_epochs = 5000\n",
    "n_range = range(n_features)\n",
    "size_range = range(size)\n",
    "\n",
    "for epoch in range(n_epochs):\n",
    "\n",
    "    y_pred = [v_dot_v(row, b) for row in x_train]\n",
    "\n",
    "    error = [y_train[i] - y_pred[i] for i in size_range]\n",
    "\n",
    "    sum_list = [0]*n_features\n",
    "    for i, err in enumerate(error):\n",
    "        for j in n_range:\n",
    "            sum_list[j] += x_train[i][j] * err\n",
    "\n",
    "    b_grad = [-2 * x / size for x in sum_list]\n",
    "\n",
    "    b = [b[i] - lr * b_grad[i] for i in n_range]\n",
    "\n",
    "    if epoch % (n_epochs/10) == 0:\n",
    "        print('mse', v_mean([x**2 for x in error]))\n",
    "\n",
    "print(1, w)\n",
    "print(b)"
   ]
  },
  {
   "cell_type": "markdown",
   "metadata": {},
   "source": [
    "### SGD без numpy"
   ]
  },
  {
   "cell_type": "code",
   "execution_count": 30,
   "metadata": {},
   "outputs": [
    {
     "name": "stdout",
     "output_type": "stream",
     "text": [
      "[0.56721, 0.4513, 0.06891, 0.2706, 0.65861, 0.4419, 0.65631, 0.2452, 0.18201, 0.1605, 0.15571, 0.8678, 0.29741, 0.2471, 0.12711, 0.3784]\n",
      "mse 2.5193767289000055\n",
      "mse 0.015168192830160217\n",
      "mse 0.004266086286334975\n",
      "mse 0.0018382550485389112\n",
      "mse 0.0010492198250468836\n",
      "mse 0.0009471050312301764\n",
      "mse 0.0010131612428887617\n",
      "mse 0.0009017683154387407\n",
      "mse 0.0008844361640661814\n",
      "mse 0.0008766039802427967\n",
      "1 [0.4325, 0.24371, 0.2198, 0.70541, 0.8791, 0.65511, 0.4904, 0.41281, 0.3337, 0.09851, 0.889, 0.63221, 0.8363, 0.73391, 0.0556]\n",
      "[1.028180091332545, 0.4334993702949444, 0.24143856471140795, 0.22631179667804613, 0.7045500821449759, 0.8817543729597284, 0.65382066990237, 0.4927751575486059, 0.4119495965815706, 0.33379064137048525, 0.10884850251880818, 0.891273647935387, 0.6326210909831648, 0.837083522221775, 0.7372293633867587, 0.05825086680016204]\n"
     ]
    }
   ],
   "source": [
    "b = [randomizer.random() for i in range(n_features)]\n",
    "\n",
    "print(b)\n",
    "\n",
    "lr = .01\n",
    "n_epochs = 5000\n",
    "feat_range = range(n_features)\n",
    "size_range = range(size)\n",
    "\n",
    "for epoch in range(n_epochs):\n",
    "    r = randomizer.randint(size)\n",
    "    x_i = x_train[r]\n",
    "    y_i = y_train[r]\n",
    "    y_pred = v_dot_v(x_i, b)\n",
    "\n",
    "    error = y_i - y_pred\n",
    "\n",
    "    b_grad = [-2 * i * error for i in x_i]\n",
    "\n",
    "    b = [b[i] - lr * b_grad[i] for i in feat_range]\n",
    "\n",
    "    if epoch % (n_epochs/10) == 0:\n",
    "        error = [0]*size\n",
    "        for i in size_range:\n",
    "            error[i] = y_train[i] - v_dot_v(x_train[i], b)\n",
    "        mse = v_mean([i**2 for i in error])\n",
    "        print('mse', mse)\n",
    "\n",
    "y_pred = [v_dot_v(x, b) for x in x_train]\n",
    "\n",
    "print(1, w)\n",
    "print(b)"
   ]
  },
  {
   "cell_type": "markdown",
   "metadata": {},
   "source": [
    "### Аналитическое решение с numpy"
   ]
  },
  {
   "cell_type": "code",
   "execution_count": 33,
   "metadata": {},
   "outputs": [],
   "source": [
    "import numpy as np"
   ]
  },
  {
   "cell_type": "code",
   "execution_count": 22,
   "metadata": {},
   "outputs": [],
   "source": [
    "class linear_regression:\n",
    "    def __init__(self):\n",
    "        return None\n",
    "    def fit(self, x, y):\n",
    "        X = np.array(x).astype('float64')\n",
    "        Y = np.array(y).astype('float64')\n",
    "        self.weight = np.linalg.inv(X.T.dot(X)).dot(X.T).dot(Y)\n",
    "        return True\n",
    "    def predict(self, x):\n",
    "        X = np.array(x)\n",
    "        Y = X.dot(self.weight)\n",
    "        return Y\n",
    "    def mean_squared_error(self, y_true, y_pred):\n",
    "        mse = np.average((y_true - y_pred) ** 2, axis=0)\n",
    "        return mse"
   ]
  },
  {
   "cell_type": "code",
   "execution_count": 23,
   "metadata": {},
   "outputs": [],
   "source": [
    "slice = size * 3 // 4\n",
    "features_train = x_train[:slice]\n",
    "target_train = y_train[:slice]\n",
    "features_test = x_train[slice:]\n",
    "target_test = y_train[slice:]"
   ]
  },
  {
   "cell_type": "code",
   "execution_count": 24,
   "metadata": {},
   "outputs": [
    {
     "name": "stdout",
     "output_type": "stream",
     "text": [
      "mse\n",
      " 0.000853710798098342\n",
      "1 [0.4325, 0.24371, 0.2198, 0.70541, 0.8791, 0.65511, 0.4904, 0.41281, 0.3337, 0.09851, 0.889, 0.63221, 0.8363, 0.73391, 0.0556]\n",
      "[1.05398437 0.42998692 0.24417856 0.21978004 0.70485825 0.8798944\n",
      " 0.65593454 0.48685424 0.40833978 0.33154843 0.10433664 0.88907569\n",
      " 0.62831439 0.83814604 0.73486057 0.05407195]\n"
     ]
    }
   ],
   "source": [
    "model = linear_regression()\n",
    "model.fit(features_train, target_train)\n",
    "\n",
    "predict = model.predict(features_test)\n",
    "\n",
    "print('mse\\n',model.mean_squared_error(target_test, predict))\n",
    "print(1, w)\n",
    "print(model.weight)"
   ]
  }
 ],
 "metadata": {
  "kernelspec": {
   "display_name": "practicum",
   "language": "python",
   "name": "python3"
  },
  "language_info": {
   "codemirror_mode": {
    "name": "ipython",
    "version": 3
   },
   "file_extension": ".py",
   "mimetype": "text/x-python",
   "name": "python",
   "nbconvert_exporter": "python",
   "pygments_lexer": "ipython3",
   "version": "3.9.16"
  }
 },
 "nbformat": 4,
 "nbformat_minor": 2
}
