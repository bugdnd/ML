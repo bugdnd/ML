{
 "cells": [
  {
   "cell_type": "code",
   "execution_count": 1,
   "metadata": {},
   "outputs": [],
   "source": [
    "import numpy as np\n",
    "import matplotlib.pyplot as plt"
   ]
  },
  {
   "cell_type": "code",
   "execution_count": 2,
   "metadata": {},
   "outputs": [],
   "source": [
    "size = 1000\n",
    "\n",
    "n_features = 5\n",
    "\n",
    "x = np.random.rand(size, n_features)\n",
    "w = np.random.rand(n_features)\n",
    "y = 1 + x.dot(w) + 0.1 * np.random.rand(size)\n",
    "\n",
    "x_train, y_train = x, y"
   ]
  },
  {
   "cell_type": "code",
   "execution_count": 3,
   "metadata": {},
   "outputs": [
    {
     "name": "stdout",
     "output_type": "stream",
     "text": [
      "[-0.20758915] [ 0.2706554  -0.55522473 -0.80422757  1.60538227  0.03767618]\n",
      "mse = 0.0008594032011663966\n",
      "[1.04886707] [0.05719188 0.76460574 0.16866992 0.22715964 0.13382003]\n",
      "1 [0.05539219 0.76753995 0.16771976 0.22440278 0.13407103]\n"
     ]
    }
   ],
   "source": [
    "a = np.random.randn(1)\n",
    "b = np.random.randn(n_features)\n",
    "print(a,b)\n",
    "\n",
    "lr = 0.01\n",
    "n_epochs = 10000\n",
    "\n",
    "for epoch in range(n_epochs):\n",
    "\n",
    "    ypred = a + np.dot(x_train, b)\n",
    "    error = (y_train - ypred)\n",
    "\n",
    "    a_grad = -2 * error.mean()\n",
    "    b_grad = -2 * (x_train.T * error).mean(axis=1)\n",
    "\n",
    "    a = a - lr * a_grad\n",
    "    b = b - lr * b_grad\n",
    "\n",
    "print('mse =', (error**2).mean())\n",
    "print(a,b)\n",
    "print(1, w)"
   ]
  },
  {
   "cell_type": "code",
   "execution_count": 33,
   "metadata": {},
   "outputs": [
    {
     "name": "stdout",
     "output_type": "stream",
     "text": [
      "x_train [[3.14289008e-01 1.90454144e-01 3.90996434e-01 1.07026764e-01\n",
      "  1.77843823e-01]\n",
      " [3.53099725e-01 7.33418906e-01 4.75266414e-01 9.49801358e-01\n",
      "  5.97877782e-01]\n",
      " [6.21586583e-01 8.55254190e-01 4.38958815e-01 1.59384272e-01\n",
      "  2.50954943e-01]\n",
      " [1.95820015e-01 4.66830971e-01 6.59851481e-04 5.60347801e-01\n",
      "  2.73155663e-01]\n",
      " [3.98770996e-01 3.04117508e-01 4.23931916e-01 6.29218917e-01\n",
      "  9.28372453e-01]]\n",
      "\n",
      "error [-0.04382493  0.03125657 -0.02485459 -0.04895305 -0.00113312]\n",
      "\n",
      " [-3.58763006e-06 -5.12408749e-06 -4.74157308e-06 -5.16531638e-06\n",
      " -4.20000958e-06]\n",
      "\n",
      " -3.587630064829206e-06\n"
     ]
    }
   ],
   "source": []
  }
 ],
 "metadata": {
  "kernelspec": {
   "display_name": "practicum",
   "language": "python",
   "name": "python3"
  },
  "language_info": {
   "codemirror_mode": {
    "name": "ipython",
    "version": 3
   },
   "file_extension": ".py",
   "mimetype": "text/x-python",
   "name": "python",
   "nbconvert_exporter": "python",
   "pygments_lexer": "ipython3",
   "version": "3.9.16"
  }
 },
 "nbformat": 4,
 "nbformat_minor": 2
}
