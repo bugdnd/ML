{
 "cells": [
  {
   "cell_type": "code",
   "execution_count": 1,
   "metadata": {},
   "outputs": [],
   "source": [
    "import numpy as np"
   ]
  },
  {
   "cell_type": "markdown",
   "metadata": {},
   "source": [
    "### Решение для тестового контеста от Yandex\n"
   ]
  },
  {
   "cell_type": "markdown",
   "metadata": {},
   "source": [
    "### Задача про интерполяцию полинома второй степени\n",
    "\n",
    "Смысл задачи в том, чтобы по наборам исходных данных (x1,x2,x3,x4,x5 и y) количеством в 1000 шт., где y = f(x1,x2,x3,x4,x5) и является результатом рассчета неизвестного полинома 2й степени, получить способ определения 'y' из любого набора x1,x2,x3,x4,x5.\n",
    "\n",
    "То есть, угадать этот полином."
   ]
  },
  {
   "cell_type": "markdown",
   "metadata": {},
   "source": [
    "Данное решение является аналитическим, а не численным, как градиентный спуск, ибо данные берутся не из жизни, а рассчитываются. Значит можно получить довольно точный результат."
   ]
  },
  {
   "cell_type": "markdown",
   "metadata": {},
   "source": [
    "Итак, мы расширяем набор, и превращаем его в прямое перечисление различных комбинаций вида:<br>\n",
    "$$\n",
    "x_1^{k1} * x_2^{k2} * x_3^{k3} * x_4^{k4} * x_5^{k5}\n",
    "$$\n",
    "где k1..5 может быть любым числом от 0 до 2.\n",
    "\n",
    "В результате набор из 5 аргументов превращается в набор из 243 аргументов (3^5)."
   ]
  },
  {
   "cell_type": "code",
   "execution_count": 2,
   "metadata": {},
   "outputs": [],
   "source": [
    "def transform_features(X, max_power=2):\n",
    "    d = X.shape[1]\n",
    "\n",
    "    f_powered = np.ones((X.shape), dtype='int64')\n",
    "    for p in range(1, max_power+1):\n",
    "        f_powered = np.column_stack((f_powered, X ** p))\n",
    "\n",
    "    def recursion(factor, X_transformed, i=0):\n",
    "        for j in range(i, i + d*(p + 1), d):\n",
    "            product = factor * f_powered[:, j]\n",
    "            if i < (d - 1):\n",
    "                X_transformed = recursion(product, X_transformed, i + 1)\n",
    "            else:\n",
    "                X_transformed = np.column_stack((X_transformed, product))\n",
    "        return X_transformed\n",
    "\n",
    "    return recursion(f_powered[:, 0], np.ones((X.shape[0], 1), dtype='int')[:, 1:])"
   ]
  },
  {
   "cell_type": "markdown",
   "metadata": {},
   "source": [
    "#### Класс линейной регрессии с аналитическим решением\n",
    "\n",
    "Вообще, мне нравится идея, что если Xw = Y, то значит w = Y/X. Конечно, мы не можем поделить на матрицу. Кроме того, мы не можем найти обратную X^-1, потому что X не квадратная матрица, а 5x1000. \n",
    "\n",
    "Однако, в аналитическом решении используется псевдообратная матрица. \n",
    "\n",
    "$$\n",
    "Xw = Y\n",
    "$$\n",
    "$$\n",
    "(X_TX)w = X_TY\n",
    "$$\n",
    "$$\n",
    "w = (X_TX)^{-1}X_TY\n",
    "$$\n",
    "\n",
    "Доказывать эту известную формулу тут не буду, надо только следить за тем, чтобы матрица X не содержала коллинеарных столбцов, потому что тогда произведение XT*X будет иметь определитель 0, а у такой матрицы не будет обратной. Но я не следил. И почему-то ничего страшного не случилось, хотя Х и Х^2 будут показывать высокий коэффициент коллинеарности Пирсона."
   ]
  },
  {
   "cell_type": "code",
   "execution_count": 3,
   "metadata": {},
   "outputs": [],
   "source": [
    "class linear_regression:\n",
    "    def __init__(self):\n",
    "        return None\n",
    "    def fit(self, x, y):\n",
    "        X = np.array(x).astype('float64')\n",
    "        Y = np.array(y).astype('float64')\n",
    "        self.weight = np.linalg.inv(X.T.dot(X)).dot(X.T).dot(Y)\n",
    "        return True\n",
    "    def predict(self, x):\n",
    "        X = np.array(x)\n",
    "        Y = X.dot(self.weight)\n",
    "        return Y\n",
    "    def mean_squared_error(self, y_true, y_pred):\n",
    "        mse = np.average((y_true - y_pred) ** 2, axis=0)\n",
    "        return mse\n"
   ]
  },
  {
   "cell_type": "code",
   "execution_count": 4,
   "metadata": {},
   "outputs": [],
   "source": [
    "\n",
    "X = []\n",
    "X_test = []\n",
    "Y = []\n",
    "with open('input.txt', 'r') as f:\n",
    "    for i in range(1000):\n",
    "        in_str = f.readline().split('\\t')\n",
    "        X += [list(map(float, in_str))[:-1]]\n",
    "        Y += list(map(float, in_str))[-1:]\n",
    "    for i in range(1000):\n",
    "        in_str = f.readline().split('\\t')\n",
    "        X_test += [list(map(float, in_str))]\n",
    "\n",
    "\n",
    "\n",
    "X = np.array(X)\n",
    "X_test = np.array(X_test)\n",
    "\n",
    "\n",
    "trans_features_train = transform_features(X, max_power=2)\n",
    "trans_features_test = transform_features(X_test, max_power=2)\n",
    "\n",
    "target_train = Y\n",
    "\n",
    "model = linear_regression()\n",
    "model.fit(trans_features_train, target_train)\n",
    "\n",
    "predict = model.predict(trans_features_test)\n",
    "\n",
    "\n",
    "# разкомментить для вывода\n",
    "# for target in predict:\n",
    "# \tprint(target)"
   ]
  },
  {
   "cell_type": "markdown",
   "metadata": {},
   "source": [
    "Дальше идет часть, проверяющая результат, которую в Яндекс отправлять не нужно."
   ]
  },
  {
   "cell_type": "code",
   "execution_count": 5,
   "metadata": {},
   "outputs": [
    {
     "data": {
      "text/plain": [
       "0.0"
      ]
     },
     "execution_count": 5,
     "metadata": {},
     "output_type": "execute_result"
    }
   ],
   "source": [
    "np.linalg.det(trans_features_train.T.dot(trans_features_train))"
   ]
  },
  {
   "cell_type": "markdown",
   "metadata": {},
   "source": [
    "Ну вот, определитель равен 0."
   ]
  },
  {
   "cell_type": "code",
   "execution_count": 6,
   "metadata": {},
   "outputs": [],
   "source": [
    "target_test = []\n",
    "with open('answers.txt', 'r') as f:\n",
    "    for line in f:\n",
    "        target_test += [float(line)]"
   ]
  },
  {
   "cell_type": "code",
   "execution_count": 7,
   "metadata": {},
   "outputs": [
    {
     "name": "stdout",
     "output_type": "stream",
     "text": [
      "mse\n",
      " 7.526150687119546e-09\n"
     ]
    }
   ],
   "source": [
    "print('mse\\n',model.mean_squared_error(target_test, predict))"
   ]
  },
  {
   "cell_type": "markdown",
   "metadata": {},
   "source": [
    "А ошибка все равно низкая, несмотря на определитель."
   ]
  }
 ],
 "metadata": {
  "kernelspec": {
   "display_name": "practicum",
   "language": "python",
   "name": "python3"
  },
  "language_info": {
   "codemirror_mode": {
    "name": "ipython",
    "version": 3
   },
   "file_extension": ".py",
   "mimetype": "text/x-python",
   "name": "python",
   "nbconvert_exporter": "python",
   "pygments_lexer": "ipython3",
   "version": "3.9.16"
  }
 },
 "nbformat": 4,
 "nbformat_minor": 2
}
