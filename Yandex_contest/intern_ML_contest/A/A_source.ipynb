{
 "cells": [
  {
   "cell_type": "code",
   "execution_count": 231,
   "metadata": {},
   "outputs": [],
   "source": [
    "import random"
   ]
  },
  {
   "cell_type": "code",
   "execution_count": 232,
   "metadata": {},
   "outputs": [
    {
     "name": "stdout",
     "output_type": "stream",
     "text": [
      "n = 5\n",
      "k = 2\n",
      "[4, 2, 2, 4, 1]\n",
      "t = 3\n",
      "ht = 4\n"
     ]
    }
   ],
   "source": [
    "n = random.randint(1, 10)\n",
    "print('n =', n)\n",
    "\n",
    "k = random.randint(1, n)\n",
    "print('k =', k)\n",
    "\n",
    "h = [random.randint(1, n) for i in range(n)]\n",
    "print(h)\n",
    "\n",
    "t = random.randint(1, n)\n",
    "print('t =', t)\n",
    "\n",
    "ht = h[t - 1]\n",
    "print('ht =', ht)"
   ]
  },
  {
   "cell_type": "markdown",
   "metadata": {},
   "source": [
    "### input"
   ]
  },
  {
   "cell_type": "code",
   "execution_count": 271,
   "metadata": {},
   "outputs": [
    {
     "name": "stdout",
     "output_type": "stream",
     "text": [
      "5 3 1 [4, 1, 5, 6, 2]\n"
     ]
    }
   ],
   "source": [
    "with open('input.txt' , 'r') as f:\n",
    "\tfile = f.readlines()\n",
    "\n",
    "init = file[0]\n",
    "n, k, t = tuple(map(int, init.split()))\n",
    "file = file[1:]\n",
    "\n",
    "h = [int(str) for str in file]\n",
    "\n",
    "#print(n, k, t, h)"
   ]
  },
  {
   "cell_type": "code",
   "execution_count": 272,
   "metadata": {},
   "outputs": [
    {
     "name": "stdout",
     "output_type": "stream",
     "text": [
      "ht = 4\n"
     ]
    }
   ],
   "source": [
    "ht = h[t - 1]\n",
    "#print('ht =', ht)"
   ]
  },
  {
   "cell_type": "code",
   "execution_count": 273,
   "metadata": {},
   "outputs": [
    {
     "name": "stdout",
     "output_type": "stream",
     "text": [
      "[1, 2, 4, 5, 6]\n"
     ]
    }
   ],
   "source": [
    "h.sort()\n",
    "#print(h)"
   ]
  },
  {
   "cell_type": "code",
   "execution_count": 274,
   "metadata": {},
   "outputs": [
    {
     "name": "stdout",
     "output_type": "stream",
     "text": [
      "i1, i2 = 2, 2\n"
     ]
    }
   ],
   "source": [
    "i1 = h.index(ht)\n",
    "i2 = len(h) - h[::-1].index(ht) - 1\n",
    "#print('i1, i2 = {}, {}'.format(i1, i2))"
   ]
  },
  {
   "cell_type": "code",
   "execution_count": 275,
   "metadata": {},
   "outputs": [
    {
     "name": "stdout",
     "output_type": "stream",
     "text": [
      "i_left = 0\n"
     ]
    }
   ],
   "source": [
    "i_left = i2 - k + 1\n",
    "\n",
    "if i_left < 0:\n",
    "    i_left = 0\n",
    "\n",
    "#print('i_left =', i_left)"
   ]
  },
  {
   "cell_type": "code",
   "execution_count": 276,
   "metadata": {},
   "outputs": [
    {
     "name": "stdout",
     "output_type": "stream",
     "text": [
      "[3, 3, 2]\n"
     ]
    }
   ],
   "source": [
    "d = []\n",
    "\n",
    "if i_left > i1:\n",
    "    d = [0]\n",
    "\n",
    "for i in range(i_left, i1+1):\n",
    "    i_right = i + k - 1\n",
    "    if i_right > n - 1:\n",
    "        break\n",
    "    d.append(h[i_right] - h[i])\n",
    "\n",
    "#print(d)"
   ]
  },
  {
   "cell_type": "code",
   "execution_count": 277,
   "metadata": {},
   "outputs": [
    {
     "name": "stdout",
     "output_type": "stream",
     "text": [
      "2\n"
     ]
    }
   ],
   "source": [
    "print(min(d))"
   ]
  }
 ],
 "metadata": {
  "kernelspec": {
   "display_name": "practicum",
   "language": "python",
   "name": "python3"
  },
  "language_info": {
   "codemirror_mode": {
    "name": "ipython",
    "version": 3
   },
   "file_extension": ".py",
   "mimetype": "text/x-python",
   "name": "python",
   "nbconvert_exporter": "python",
   "pygments_lexer": "ipython3",
   "version": "3.9.16"
  }
 },
 "nbformat": 4,
 "nbformat_minor": 2
}
