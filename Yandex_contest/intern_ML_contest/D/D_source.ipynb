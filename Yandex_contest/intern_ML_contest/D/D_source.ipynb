{
 "cells": [
  {
   "cell_type": "code",
   "execution_count": 330,
   "metadata": {},
   "outputs": [],
   "source": [
    "import numpy as np"
   ]
  },
  {
   "cell_type": "code",
   "execution_count": 331,
   "metadata": {},
   "outputs": [],
   "source": [
    "with open('input.txt', 'r') as f:\n",
    "    raw_data = f.readlines()"
   ]
  },
  {
   "cell_type": "code",
   "execution_count": 332,
   "metadata": {},
   "outputs": [
    {
     "name": "stdout",
     "output_type": "stream",
     "text": [
      "5 4 9\n"
     ]
    }
   ],
   "source": [
    "n, m, q = tuple(map(int, raw_data[0].split()))\n",
    "print(n, m, q)"
   ]
  },
  {
   "cell_type": "code",
   "execution_count": 333,
   "metadata": {},
   "outputs": [],
   "source": [
    "data = np.array([list(map(int, raw_data[i+1].split())) for i in range(n)])"
   ]
  },
  {
   "cell_type": "code",
   "execution_count": 334,
   "metadata": {},
   "outputs": [],
   "source": [
    "questions = raw_data[n+1:]"
   ]
  },
  {
   "cell_type": "code",
   "execution_count": 335,
   "metadata": {},
   "outputs": [],
   "source": [
    "euqlide_users = np.full((n, n), 300, dtype='float')\n",
    "for i in range(n):\n",
    "    for j in range(n):\n",
    "        if i==j:\n",
    "            euqlide_users[i, j] = 300\n",
    "            continue\n",
    "        diff = data[i] - data[j]\n",
    "        \n",
    "        euqlide_users[i, j] = diff.dot(diff)**.5\n",
    "        #print(i, j, diff)\n",
    "        #print(diff.dot(diff))"
   ]
  },
  {
   "cell_type": "code",
   "execution_count": 336,
   "metadata": {},
   "outputs": [],
   "source": [
    "similar_user = np.array([], dtype='int')\n",
    "\n",
    "for i in range(n):\n",
    "    user = euqlide_users[i]\n",
    "    min = 300\n",
    "    i_min = 0\n",
    "    for j in range(n):\n",
    "        distance = user[j]\n",
    "        if distance < min:\n",
    "            min = distance\n",
    "            i_min = j\n",
    "    #print(i, i_min)\n",
    "    similar_user = np.append(similar_user, i_min)"
   ]
  },
  {
   "cell_type": "code",
   "execution_count": 337,
   "metadata": {},
   "outputs": [],
   "source": [
    "def get_best_movie(list):\n",
    "    max = 0\n",
    "    i_max = 0\n",
    "    for i in range(len(list)):\n",
    "        if list[i] > max:\n",
    "            max = list[i]\n",
    "            i_max = i\n",
    "    return i_max, max"
   ]
  },
  {
   "cell_type": "code",
   "execution_count": 338,
   "metadata": {},
   "outputs": [],
   "source": [
    "euqlide_movies = np.full((m, m), 300, dtype='float')\n",
    "\n",
    "data_trans = data.T\n",
    "\n",
    "for i in range(m):\n",
    "    for j in range(m):\n",
    "        if i==j:\n",
    "            euqlide_movies[i, j] = 300\n",
    "            continue\n",
    "        diff = data_trans[i] - data_trans[j]\n",
    "        \n",
    "        euqlide_movies[i, j] = diff.dot(diff)**.5"
   ]
  },
  {
   "cell_type": "code",
   "execution_count": 339,
   "metadata": {},
   "outputs": [],
   "source": [
    "similar_movies = np.array([], dtype='int')\n",
    "\n",
    "for i in range(m):\n",
    "    movie = euqlide_movies[i]\n",
    "    min = 300\n",
    "    i_min = 0\n",
    "    for j in range(m):\n",
    "        distance = movie[j]\n",
    "        if distance < min:\n",
    "            min = distance\n",
    "            i_min = j\n",
    "    #print(i, i_min)\n",
    "    similar_movies = np.append(similar_movies, i_min)"
   ]
  },
  {
   "cell_type": "code",
   "execution_count": 340,
   "metadata": {},
   "outputs": [],
   "source": [
    "answers = []\n",
    "\n",
    "for i in range(q):\n",
    "    question = questions[i].split()\n",
    "    if question[0] == 'u':\n",
    "        k_user = int(question[1])\n",
    "        recomend, val = get_best_movie(data[similar_user[k_user-1]])\n",
    "        answers.append(recomend + 1)\n",
    "    else:\n",
    "        k_movie = int(question[1])\n",
    "        sim_movie = similar_movies[k_movie-1]\n",
    "        answers.append(sim_movie + 1)\n"
   ]
  },
  {
   "cell_type": "code",
   "execution_count": 341,
   "metadata": {},
   "outputs": [],
   "source": [
    "with open('answers.txt', 'w') as f:\n",
    "    f.write(str(len(answers))+'\\n')\n",
    "    f.writelines(list(map(lambda x: str(x)+'\\n', answers)))"
   ]
  }
 ],
 "metadata": {
  "kernelspec": {
   "display_name": "practicum",
   "language": "python",
   "name": "python3"
  },
  "language_info": {
   "codemirror_mode": {
    "name": "ipython",
    "version": 3
   },
   "file_extension": ".py",
   "mimetype": "text/x-python",
   "name": "python",
   "nbconvert_exporter": "python",
   "pygments_lexer": "ipython3",
   "version": "3.9.16"
  }
 },
 "nbformat": 4,
 "nbformat_minor": 2
}
