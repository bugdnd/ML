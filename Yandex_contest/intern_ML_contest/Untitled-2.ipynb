{
 "cells": [
  {
   "cell_type": "code",
   "execution_count": null,
   "metadata": {},
   "outputs": [],
   "source": [
    "import numpy as np\n",
    "\n",
    "X = np.zeros((4, 3, 2))\n",
    "\n",
    "with open('input.txt' , 'r') as f:\n",
    "\tfor i in range(4):\n",
    "\t\tl = list(map(int, f.readline().split()))\n",
    "\t\tX[i] = [[l[x], l[x+1]] for x in range(0, len(l), 2)]\n",
    "\n",
    "\n",
    "for i in range(100):\n",
    "\tif np.mean(np.abs(X[i])) < 0.37:\n",
    "\t\tprint(1)\n",
    "\telse:\n",
    "\t\tprint(2)"
   ]
  }
 ],
 "metadata": {
  "kernelspec": {
   "display_name": "practicum",
   "language": "python",
   "name": "python3"
  },
  "language_info": {
   "name": "python",
   "version": "3.9.16"
  }
 },
 "nbformat": 4,
 "nbformat_minor": 2
}
