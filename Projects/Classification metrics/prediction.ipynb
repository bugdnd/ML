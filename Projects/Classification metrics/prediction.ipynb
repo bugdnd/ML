{
 "cells": [
  {
   "cell_type": "markdown",
   "metadata": {
    "toc": true
   },
   "source": [
    "<h1>Содержание<span class=\"tocSkip\"></span></h1>\n",
    "<div class=\"toc\"><ul class=\"toc-item\"><li><span><a href=\"#Подготовка-данных\" data-toc-modified-id=\"Подготовка-данных-1\"><span class=\"toc-item-num\">1&nbsp;&nbsp;</span>Подготовка данных</a></span><ul class=\"toc-item\"><li><span><a href=\"#Открыть-файл\" data-toc-modified-id=\"Открыть-файл-1.1\"><span class=\"toc-item-num\">1.1&nbsp;&nbsp;</span>Открыть файл</a></span></li><li><span><a href=\"#Изучить\" data-toc-modified-id=\"Изучить-1.2\"><span class=\"toc-item-num\">1.2&nbsp;&nbsp;</span>Изучить</a></span></li><li><span><a href=\"#Подготовка\" data-toc-modified-id=\"Подготовка-1.3\"><span class=\"toc-item-num\">1.3&nbsp;&nbsp;</span>Подготовка</a></span></li></ul></li><li><span><a href=\"#Исследование-задачи\" data-toc-modified-id=\"Исследование-задачи-2\"><span class=\"toc-item-num\">2&nbsp;&nbsp;</span>Исследование задачи</a></span><ul class=\"toc-item\"><li><span><a href=\"#Исследуем-баланс-классов\" data-toc-modified-id=\"Исследуем-баланс-классов-2.1\"><span class=\"toc-item-num\">2.1&nbsp;&nbsp;</span>Исследуем баланс классов</a></span></li><li><span><a href=\"#Обучим-модель-без-учёта-дисбаланса\" data-toc-modified-id=\"Обучим-модель-без-учёта-дисбаланса-2.2\"><span class=\"toc-item-num\">2.2&nbsp;&nbsp;</span>Обучим модель без учёта дисбаланса</a></span></li></ul></li><li><span><a href=\"#Борьба-с-дисбалансом\" data-toc-modified-id=\"Борьба-с-дисбалансом-3\"><span class=\"toc-item-num\">3&nbsp;&nbsp;</span>Борьба с дисбалансом</a></span><ul class=\"toc-item\"><li><span><a href=\"#Весовой-баланс\" data-toc-modified-id=\"Весовой-баланс-3.1\"><span class=\"toc-item-num\">3.1&nbsp;&nbsp;</span>Весовой баланс</a></span></li><li><span><a href=\"#Увеличение-выборки-через-upsampling\" data-toc-modified-id=\"Увеличение-выборки-через-upsampling-3.2\"><span class=\"toc-item-num\">3.2&nbsp;&nbsp;</span>Увеличение выборки через upsampling</a></span></li><li><span><a href=\"#Уменьшение-выборки-через-downsampling\" data-toc-modified-id=\"Уменьшение-выборки-через-downsampling-3.3\"><span class=\"toc-item-num\">3.3&nbsp;&nbsp;</span>Уменьшение выборки через downsampling</a></span></li><li><span><a href=\"#Подбор-порога\" data-toc-modified-id=\"Подбор-порога-3.4\"><span class=\"toc-item-num\">3.4&nbsp;&nbsp;</span>Подбор порога</a></span></li></ul></li><li><span><a href=\"#Тестирование-модели\" data-toc-modified-id=\"Тестирование-модели-4\"><span class=\"toc-item-num\">4&nbsp;&nbsp;</span>Тестирование модели</a></span></li><li><span><a href=\"#Выводы\" data-toc-modified-id=\"Выводы-5\"><span class=\"toc-item-num\">5&nbsp;&nbsp;</span>Выводы</a></span></li><li><span><a href=\"#Финальные-комментарии-ревьюера\" data-toc-modified-id=\"Финальные-комментарии-ревьюера-6\"><span class=\"toc-item-num\">6&nbsp;&nbsp;</span>Финальные комментарии ревьюера</a></span></li></ul></div>"
   ]
  },
  {
   "cell_type": "markdown",
   "metadata": {},
   "source": [
    "# Отток клиентов"
   ]
  },
  {
   "cell_type": "markdown",
   "metadata": {},
   "source": [
    "Из «Бета-Банка» стали уходить клиенты. Каждый месяц. Немного, но заметно. Банковские маркетологи посчитали: сохранять текущих клиентов дешевле, чем привлекать новых.\n",
    "\n",
    "Нужно спрогнозировать, уйдёт клиент из банка в ближайшее время или нет. Вам предоставлены исторические данные о поведении клиентов и расторжении договоров с банком. \n",
    "\n",
    "Нужно посторить модель с предельно большим значением *F1*-меры, доведя метрику до 0.59.\n",
    "\n",
    "Дополнительно измерить *AUC-ROC*, сравнивать её значение с *F1*-мерой."
   ]
  },
  {
   "cell_type": "markdown",
   "metadata": {},
   "source": [
    "**Описание данных.\n",
    "Признаки:**\n",
    "\n",
    "- RowNumber — индекс строки в данных\n",
    "- CustomerId — уникальный идентификатор клиента\n",
    "- Surname — фамилия\n",
    "- CreditScore — кредитный рейтинг\n",
    "- Geography — страна проживания\n",
    "- Gender — пол\n",
    "- Age — возраст\n",
    "- Tenure — сколько лет человек является клиентом банка\n",
    "- Balance — баланс на счёте\n",
    "- NumOfProducts — количество продуктов банка, используемых клиентом\n",
    "- HasCrCard — наличие кредитной карты\n",
    "- IsActiveMember — активность клиента\n",
    "- EstimatedSalary — предполагаемая зарплата\n",
    "\n",
    "**Целевой признак:**\n",
    "- Exited — факт ухода клиента"
   ]
  },
  {
   "cell_type": "markdown",
   "metadata": {},
   "source": [
    "## Подготовка данных"
   ]
  },
  {
   "cell_type": "markdown",
   "metadata": {},
   "source": [
    "### Открыть файл"
   ]
  },
  {
   "cell_type": "code",
   "execution_count": 1,
   "metadata": {},
   "outputs": [],
   "source": [
    "import pandas as pd\n",
    "import matplotlib.pyplot as plt\n",
    "import numpy as np\n",
    "from sklearn.preprocessing import StandardScaler\n",
    "from sklearn.model_selection import train_test_split\n",
    "from sklearn.linear_model import LogisticRegression\n",
    "from sklearn.tree import DecisionTreeClassifier\n",
    "from sklearn.ensemble import RandomForestClassifier\n",
    "from sklearn.metrics import f1_score\n",
    "from sklearn.metrics import confusion_matrix\n",
    "from sklearn.metrics import accuracy_score\n",
    "from sklearn.metrics import recall_score\n",
    "from sklearn.metrics import precision_score\n",
    "from sklearn.metrics import roc_auc_score\n",
    "from sklearn.metrics import roc_curve\n",
    "from sklearn.utils import shuffle\n",
    "from sklearn.preprocessing import OneHotEncoder\n",
    "\n",
    "\n",
    "pd.options.display.max_rows = 999\n",
    "pd.options.mode.chained_assignment = None\n",
    "\n",
    "import warnings\n",
    "warnings.filterwarnings(\"ignore\")"
   ]
  },
  {
   "cell_type": "code",
   "execution_count": 2,
   "metadata": {},
   "outputs": [],
   "source": [
    "try:\n",
    "    data = pd.read_csv('/datasets/Churn.csv', sep=',')\n",
    "except:\n",
    "    data = pd.read_csv('Churn.csv', sep=',')"
   ]
  },
  {
   "cell_type": "markdown",
   "metadata": {},
   "source": [
    "### Изучить"
   ]
  },
  {
   "cell_type": "code",
   "execution_count": 3,
   "metadata": {},
   "outputs": [
    {
     "data": {
      "text/html": [
       "<div>\n",
       "<style scoped>\n",
       "    .dataframe tbody tr th:only-of-type {\n",
       "        vertical-align: middle;\n",
       "    }\n",
       "\n",
       "    .dataframe tbody tr th {\n",
       "        vertical-align: top;\n",
       "    }\n",
       "\n",
       "    .dataframe thead th {\n",
       "        text-align: right;\n",
       "    }\n",
       "</style>\n",
       "<table border=\"1\" class=\"dataframe\">\n",
       "  <thead>\n",
       "    <tr style=\"text-align: right;\">\n",
       "      <th></th>\n",
       "      <th>RowNumber</th>\n",
       "      <th>CustomerId</th>\n",
       "      <th>Surname</th>\n",
       "      <th>CreditScore</th>\n",
       "      <th>Geography</th>\n",
       "      <th>Gender</th>\n",
       "      <th>Age</th>\n",
       "      <th>Tenure</th>\n",
       "      <th>Balance</th>\n",
       "      <th>NumOfProducts</th>\n",
       "      <th>HasCrCard</th>\n",
       "      <th>IsActiveMember</th>\n",
       "      <th>EstimatedSalary</th>\n",
       "      <th>Exited</th>\n",
       "    </tr>\n",
       "  </thead>\n",
       "  <tbody>\n",
       "    <tr>\n",
       "      <th>0</th>\n",
       "      <td>1</td>\n",
       "      <td>15634602</td>\n",
       "      <td>Hargrave</td>\n",
       "      <td>619</td>\n",
       "      <td>France</td>\n",
       "      <td>Female</td>\n",
       "      <td>42</td>\n",
       "      <td>2.0</td>\n",
       "      <td>0.00</td>\n",
       "      <td>1</td>\n",
       "      <td>1</td>\n",
       "      <td>1</td>\n",
       "      <td>101348.88</td>\n",
       "      <td>1</td>\n",
       "    </tr>\n",
       "    <tr>\n",
       "      <th>1</th>\n",
       "      <td>2</td>\n",
       "      <td>15647311</td>\n",
       "      <td>Hill</td>\n",
       "      <td>608</td>\n",
       "      <td>Spain</td>\n",
       "      <td>Female</td>\n",
       "      <td>41</td>\n",
       "      <td>1.0</td>\n",
       "      <td>83807.86</td>\n",
       "      <td>1</td>\n",
       "      <td>0</td>\n",
       "      <td>1</td>\n",
       "      <td>112542.58</td>\n",
       "      <td>0</td>\n",
       "    </tr>\n",
       "    <tr>\n",
       "      <th>2</th>\n",
       "      <td>3</td>\n",
       "      <td>15619304</td>\n",
       "      <td>Onio</td>\n",
       "      <td>502</td>\n",
       "      <td>France</td>\n",
       "      <td>Female</td>\n",
       "      <td>42</td>\n",
       "      <td>8.0</td>\n",
       "      <td>159660.80</td>\n",
       "      <td>3</td>\n",
       "      <td>1</td>\n",
       "      <td>0</td>\n",
       "      <td>113931.57</td>\n",
       "      <td>1</td>\n",
       "    </tr>\n",
       "    <tr>\n",
       "      <th>3</th>\n",
       "      <td>4</td>\n",
       "      <td>15701354</td>\n",
       "      <td>Boni</td>\n",
       "      <td>699</td>\n",
       "      <td>France</td>\n",
       "      <td>Female</td>\n",
       "      <td>39</td>\n",
       "      <td>1.0</td>\n",
       "      <td>0.00</td>\n",
       "      <td>2</td>\n",
       "      <td>0</td>\n",
       "      <td>0</td>\n",
       "      <td>93826.63</td>\n",
       "      <td>0</td>\n",
       "    </tr>\n",
       "    <tr>\n",
       "      <th>4</th>\n",
       "      <td>5</td>\n",
       "      <td>15737888</td>\n",
       "      <td>Mitchell</td>\n",
       "      <td>850</td>\n",
       "      <td>Spain</td>\n",
       "      <td>Female</td>\n",
       "      <td>43</td>\n",
       "      <td>2.0</td>\n",
       "      <td>125510.82</td>\n",
       "      <td>1</td>\n",
       "      <td>1</td>\n",
       "      <td>1</td>\n",
       "      <td>79084.10</td>\n",
       "      <td>0</td>\n",
       "    </tr>\n",
       "  </tbody>\n",
       "</table>\n",
       "</div>"
      ],
      "text/plain": [
       "   RowNumber  CustomerId   Surname  CreditScore Geography  Gender  Age  \\\n",
       "0          1    15634602  Hargrave          619    France  Female   42   \n",
       "1          2    15647311      Hill          608     Spain  Female   41   \n",
       "2          3    15619304      Onio          502    France  Female   42   \n",
       "3          4    15701354      Boni          699    France  Female   39   \n",
       "4          5    15737888  Mitchell          850     Spain  Female   43   \n",
       "\n",
       "   Tenure    Balance  NumOfProducts  HasCrCard  IsActiveMember  \\\n",
       "0     2.0       0.00              1          1               1   \n",
       "1     1.0   83807.86              1          0               1   \n",
       "2     8.0  159660.80              3          1               0   \n",
       "3     1.0       0.00              2          0               0   \n",
       "4     2.0  125510.82              1          1               1   \n",
       "\n",
       "   EstimatedSalary  Exited  \n",
       "0        101348.88       1  \n",
       "1        112542.58       0  \n",
       "2        113931.57       1  \n",
       "3         93826.63       0  \n",
       "4         79084.10       0  "
      ]
     },
     "execution_count": 3,
     "metadata": {},
     "output_type": "execute_result"
    }
   ],
   "source": [
    "data.head()"
   ]
  },
  {
   "cell_type": "code",
   "execution_count": 4,
   "metadata": {},
   "outputs": [
    {
     "name": "stdout",
     "output_type": "stream",
     "text": [
      "<class 'pandas.core.frame.DataFrame'>\n",
      "RangeIndex: 10000 entries, 0 to 9999\n",
      "Data columns (total 14 columns):\n",
      " #   Column           Non-Null Count  Dtype  \n",
      "---  ------           --------------  -----  \n",
      " 0   RowNumber        10000 non-null  int64  \n",
      " 1   CustomerId       10000 non-null  int64  \n",
      " 2   Surname          10000 non-null  object \n",
      " 3   CreditScore      10000 non-null  int64  \n",
      " 4   Geography        10000 non-null  object \n",
      " 5   Gender           10000 non-null  object \n",
      " 6   Age              10000 non-null  int64  \n",
      " 7   Tenure           9091 non-null   float64\n",
      " 8   Balance          10000 non-null  float64\n",
      " 9   NumOfProducts    10000 non-null  int64  \n",
      " 10  HasCrCard        10000 non-null  int64  \n",
      " 11  IsActiveMember   10000 non-null  int64  \n",
      " 12  EstimatedSalary  10000 non-null  float64\n",
      " 13  Exited           10000 non-null  int64  \n",
      "dtypes: float64(3), int64(8), object(3)\n",
      "memory usage: 1.1+ MB\n"
     ]
    }
   ],
   "source": [
    "data.info()"
   ]
  },
  {
   "cell_type": "code",
   "execution_count": 5,
   "metadata": {},
   "outputs": [
    {
     "data": {
      "text/plain": [
       "array([[<AxesSubplot:title={'center':'RowNumber'}>,\n",
       "        <AxesSubplot:title={'center':'CustomerId'}>,\n",
       "        <AxesSubplot:title={'center':'CreditScore'}>],\n",
       "       [<AxesSubplot:title={'center':'Age'}>,\n",
       "        <AxesSubplot:title={'center':'Tenure'}>,\n",
       "        <AxesSubplot:title={'center':'Balance'}>],\n",
       "       [<AxesSubplot:title={'center':'NumOfProducts'}>,\n",
       "        <AxesSubplot:title={'center':'HasCrCard'}>,\n",
       "        <AxesSubplot:title={'center':'IsActiveMember'}>],\n",
       "       [<AxesSubplot:title={'center':'EstimatedSalary'}>,\n",
       "        <AxesSubplot:title={'center':'Exited'}>, <AxesSubplot:>]],\n",
       "      dtype=object)"
      ]
     },
     "execution_count": 5,
     "metadata": {},
     "output_type": "execute_result"
    },
    {
     "data": {
      "image/png": "[encoded data removed]",
      "text/plain": [
       "<Figure size 720x720 with 12 Axes>"
      ]
     },
     "metadata": {
      "needs_background": "light"
     },
     "output_type": "display_data"
    }
   ],
   "source": [
    "data.hist(figsize=(10,10), bins=20)"
   ]
  },
  {
   "cell_type": "code",
   "execution_count": 6,
   "metadata": {},
   "outputs": [
    {
     "data": {
      "text/plain": [
       "RowNumber            0\n",
       "CustomerId           0\n",
       "Surname              0\n",
       "CreditScore          0\n",
       "Geography            0\n",
       "Gender               0\n",
       "Age                  0\n",
       "Tenure             909\n",
       "Balance              0\n",
       "NumOfProducts        0\n",
       "HasCrCard            0\n",
       "IsActiveMember       0\n",
       "EstimatedSalary      0\n",
       "Exited               0\n",
       "dtype: int64"
      ]
     },
     "execution_count": 6,
     "metadata": {},
     "output_type": "execute_result"
    }
   ],
   "source": [
    "data.isna().sum()"
   ]
  },
  {
   "cell_type": "code",
   "execution_count": 7,
   "metadata": {},
   "outputs": [
    {
     "data": {
      "text/html": [
       "<div>\n",
       "<style scoped>\n",
       "    .dataframe tbody tr th:only-of-type {\n",
       "        vertical-align: middle;\n",
       "    }\n",
       "\n",
       "    .dataframe tbody tr th {\n",
       "        vertical-align: top;\n",
       "    }\n",
       "\n",
       "    .dataframe thead th {\n",
       "        text-align: right;\n",
       "    }\n",
       "</style>\n",
       "<table border=\"1\" class=\"dataframe\">\n",
       "  <thead>\n",
       "    <tr style=\"text-align: right;\">\n",
       "      <th></th>\n",
       "      <th>RowNumber</th>\n",
       "      <th>CustomerId</th>\n",
       "      <th>CreditScore</th>\n",
       "      <th>Age</th>\n",
       "      <th>Tenure</th>\n",
       "      <th>Balance</th>\n",
       "      <th>NumOfProducts</th>\n",
       "      <th>HasCrCard</th>\n",
       "      <th>IsActiveMember</th>\n",
       "      <th>EstimatedSalary</th>\n",
       "      <th>Exited</th>\n",
       "    </tr>\n",
       "  </thead>\n",
       "  <tbody>\n",
       "    <tr>\n",
       "      <th>count</th>\n",
       "      <td>10000.00000</td>\n",
       "      <td>1.000000e+04</td>\n",
       "      <td>10000.000000</td>\n",
       "      <td>10000.000000</td>\n",
       "      <td>9091.000000</td>\n",
       "      <td>10000.000000</td>\n",
       "      <td>10000.000000</td>\n",
       "      <td>10000.00000</td>\n",
       "      <td>10000.000000</td>\n",
       "      <td>10000.000000</td>\n",
       "      <td>10000.000000</td>\n",
       "    </tr>\n",
       "    <tr>\n",
       "      <th>mean</th>\n",
       "      <td>5000.50000</td>\n",
       "      <td>1.569094e+07</td>\n",
       "      <td>650.528800</td>\n",
       "      <td>38.921800</td>\n",
       "      <td>4.997690</td>\n",
       "      <td>76485.889288</td>\n",
       "      <td>1.530200</td>\n",
       "      <td>0.70550</td>\n",
       "      <td>0.515100</td>\n",
       "      <td>100090.239881</td>\n",
       "      <td>0.203700</td>\n",
       "    </tr>\n",
       "    <tr>\n",
       "      <th>std</th>\n",
       "      <td>2886.89568</td>\n",
       "      <td>7.193619e+04</td>\n",
       "      <td>96.653299</td>\n",
       "      <td>10.487806</td>\n",
       "      <td>2.894723</td>\n",
       "      <td>62397.405202</td>\n",
       "      <td>0.581654</td>\n",
       "      <td>0.45584</td>\n",
       "      <td>0.499797</td>\n",
       "      <td>57510.492818</td>\n",
       "      <td>0.402769</td>\n",
       "    </tr>\n",
       "    <tr>\n",
       "      <th>min</th>\n",
       "      <td>1.00000</td>\n",
       "      <td>1.556570e+07</td>\n",
       "      <td>350.000000</td>\n",
       "      <td>18.000000</td>\n",
       "      <td>0.000000</td>\n",
       "      <td>0.000000</td>\n",
       "      <td>1.000000</td>\n",
       "      <td>0.00000</td>\n",
       "      <td>0.000000</td>\n",
       "      <td>11.580000</td>\n",
       "      <td>0.000000</td>\n",
       "    </tr>\n",
       "    <tr>\n",
       "      <th>25%</th>\n",
       "      <td>2500.75000</td>\n",
       "      <td>1.562853e+07</td>\n",
       "      <td>584.000000</td>\n",
       "      <td>32.000000</td>\n",
       "      <td>2.000000</td>\n",
       "      <td>0.000000</td>\n",
       "      <td>1.000000</td>\n",
       "      <td>0.00000</td>\n",
       "      <td>0.000000</td>\n",
       "      <td>51002.110000</td>\n",
       "      <td>0.000000</td>\n",
       "    </tr>\n",
       "    <tr>\n",
       "      <th>50%</th>\n",
       "      <td>5000.50000</td>\n",
       "      <td>1.569074e+07</td>\n",
       "      <td>652.000000</td>\n",
       "      <td>37.000000</td>\n",
       "      <td>5.000000</td>\n",
       "      <td>97198.540000</td>\n",
       "      <td>1.000000</td>\n",
       "      <td>1.00000</td>\n",
       "      <td>1.000000</td>\n",
       "      <td>100193.915000</td>\n",
       "      <td>0.000000</td>\n",
       "    </tr>\n",
       "    <tr>\n",
       "      <th>75%</th>\n",
       "      <td>7500.25000</td>\n",
       "      <td>1.575323e+07</td>\n",
       "      <td>718.000000</td>\n",
       "      <td>44.000000</td>\n",
       "      <td>7.000000</td>\n",
       "      <td>127644.240000</td>\n",
       "      <td>2.000000</td>\n",
       "      <td>1.00000</td>\n",
       "      <td>1.000000</td>\n",
       "      <td>149388.247500</td>\n",
       "      <td>0.000000</td>\n",
       "    </tr>\n",
       "    <tr>\n",
       "      <th>max</th>\n",
       "      <td>10000.00000</td>\n",
       "      <td>1.581569e+07</td>\n",
       "      <td>850.000000</td>\n",
       "      <td>92.000000</td>\n",
       "      <td>10.000000</td>\n",
       "      <td>250898.090000</td>\n",
       "      <td>4.000000</td>\n",
       "      <td>1.00000</td>\n",
       "      <td>1.000000</td>\n",
       "      <td>199992.480000</td>\n",
       "      <td>1.000000</td>\n",
       "    </tr>\n",
       "  </tbody>\n",
       "</table>\n",
       "</div>"
      ],
      "text/plain": [
       "         RowNumber    CustomerId   CreditScore           Age       Tenure  \\\n",
       "count  10000.00000  1.000000e+04  10000.000000  10000.000000  9091.000000   \n",
       "mean    5000.50000  1.569094e+07    650.528800     38.921800     4.997690   \n",
       "std     2886.89568  7.193619e+04     96.653299     10.487806     2.894723   \n",
       "min        1.00000  1.556570e+07    350.000000     18.000000     0.000000   \n",
       "25%     2500.75000  1.562853e+07    584.000000     32.000000     2.000000   \n",
       "50%     5000.50000  1.569074e+07    652.000000     37.000000     5.000000   \n",
       "75%     7500.25000  1.575323e+07    718.000000     44.000000     7.000000   \n",
       "max    10000.00000  1.581569e+07    850.000000     92.000000    10.000000   \n",
       "\n",
       "             Balance  NumOfProducts    HasCrCard  IsActiveMember  \\\n",
       "count   10000.000000   10000.000000  10000.00000    10000.000000   \n",
       "mean    76485.889288       1.530200      0.70550        0.515100   \n",
       "std     62397.405202       0.581654      0.45584        0.499797   \n",
       "min         0.000000       1.000000      0.00000        0.000000   \n",
       "25%         0.000000       1.000000      0.00000        0.000000   \n",
       "50%     97198.540000       1.000000      1.00000        1.000000   \n",
       "75%    127644.240000       2.000000      1.00000        1.000000   \n",
       "max    250898.090000       4.000000      1.00000        1.000000   \n",
       "\n",
       "       EstimatedSalary        Exited  \n",
       "count     10000.000000  10000.000000  \n",
       "mean     100090.239881      0.203700  \n",
       "std       57510.492818      0.402769  \n",
       "min          11.580000      0.000000  \n",
       "25%       51002.110000      0.000000  \n",
       "50%      100193.915000      0.000000  \n",
       "75%      149388.247500      0.000000  \n",
       "max      199992.480000      1.000000  "
      ]
     },
     "execution_count": 7,
     "metadata": {},
     "output_type": "execute_result"
    }
   ],
   "source": [
    "data.describe()"
   ]
  },
  {
   "cell_type": "code",
   "execution_count": 8,
   "metadata": {
    "scrolled": true
   },
   "outputs": [
    {
     "data": {
      "text/plain": [
       "0"
      ]
     },
     "execution_count": 8,
     "metadata": {},
     "output_type": "execute_result"
    }
   ],
   "source": [
    "# явные дубликаты\n",
    "data.duplicated().sum()"
   ]
  },
  {
   "cell_type": "markdown",
   "metadata": {},
   "source": [
    "В данных есть пропуски, названия не по феншую. Типы правильные, аномалий не замечено. Явных дубликатов нет."
   ]
  },
  {
   "cell_type": "markdown",
   "metadata": {},
   "source": [
    "### Подготовка"
   ]
  },
  {
   "cell_type": "code",
   "execution_count": 9,
   "metadata": {},
   "outputs": [],
   "source": [
    "# индексы и уникальные идентификаторы удалим, они не дадут никаких зависимостей\n",
    "data = data.drop(['RowNumber', 'CustomerId'], axis=1)"
   ]
  },
  {
   "cell_type": "code",
   "execution_count": 10,
   "metadata": {},
   "outputs": [],
   "source": [
    "# фамилии тоже не дадут нам информации\n",
    "data = data.drop('Surname', axis=1)"
   ]
  },
  {
   "cell_type": "code",
   "execution_count": 11,
   "metadata": {},
   "outputs": [],
   "source": [
    "# оформим названия\n",
    "data = data.rename(columns={'CreditScore':'Credit_Score',\n",
    "                            'NumOfProducts':'Num_Of_Products',\n",
    "                            'HasCrCard':'Has_Cr_Card',\n",
    "                            'IsActiveMember':'Is_Active_Member',\n",
    "                            'EstimatedSalary':'Estimated_Salary'\n",
    "                           })\n",
    "\n",
    "data.columns = data.columns.str.lower()"
   ]
  },
  {
   "cell_type": "code",
   "execution_count": 12,
   "metadata": {},
   "outputs": [
    {
     "data": {
      "text/plain": [
       "Index(['credit_score', 'geography', 'gender', 'age', 'tenure', 'balance',\n",
       "       'num_of_products', 'has_cr_card', 'is_active_member',\n",
       "       'estimated_salary', 'exited'],\n",
       "      dtype='object')"
      ]
     },
     "execution_count": 12,
     "metadata": {},
     "output_type": "execute_result"
    }
   ],
   "source": [
    "data.columns"
   ]
  },
  {
   "cell_type": "code",
   "execution_count": 13,
   "metadata": {},
   "outputs": [],
   "source": [
    "# пропуски в tenure заполним медианой\n",
    "data['tenure'] = data['tenure'].fillna(data['tenure'].median())"
   ]
  },
  {
   "cell_type": "code",
   "execution_count": 14,
   "metadata": {},
   "outputs": [],
   "source": [
    "# кодируем категориальные признаки\n",
    "data = pd.get_dummies(data, drop_first=True)"
   ]
  },
  {
   "cell_type": "code",
   "execution_count": 15,
   "metadata": {},
   "outputs": [
    {
     "data": {
      "text/plain": [
       "Index(['credit_score', 'age', 'tenure', 'balance', 'num_of_products',\n",
       "       'has_cr_card', 'is_active_member', 'estimated_salary', 'exited',\n",
       "       'geography_Germany', 'geography_Spain', 'gender_Male'],\n",
       "      dtype='object')"
      ]
     },
     "execution_count": 15,
     "metadata": {},
     "output_type": "execute_result"
    }
   ],
   "source": [
    "data.columns"
   ]
  },
  {
   "cell_type": "code",
   "execution_count": 16,
   "metadata": {},
   "outputs": [],
   "source": [
    "# готовим выборки\n",
    "\n",
    "target = data['exited']\n",
    "features = data.drop('exited', axis=1)\n",
    "\n",
    "features_train, features_valid, target_train, target_valid = train_test_split(\n",
    "    features, target, test_size=0.40, random_state=12345)\n",
    "\n",
    "features_valid, features_test, target_valid, target_test = train_test_split(\n",
    "    features_valid, target_valid, test_size=0.50, random_state=12345)"
   ]
  },
  {
   "cell_type": "code",
   "execution_count": 17,
   "metadata": {},
   "outputs": [
    {
     "name": "stdout",
     "output_type": "stream",
     "text": [
      "[0.6, 0.2, 0.2]\n"
     ]
    }
   ],
   "source": [
    "# проверим размеры выборок\n",
    "print([f.shape[0]/features.shape[0] for f in [features_train, features_valid, features_test]])"
   ]
  },
  {
   "cell_type": "code",
   "execution_count": 18,
   "metadata": {
    "scrolled": true
   },
   "outputs": [],
   "source": [
    "# масштабируем численные параметры\n",
    "\n",
    "numeric = ['tenure', 'num_of_products','credit_score', 'age', 'balance', 'estimated_salary']\n",
    "\n",
    "scaler = StandardScaler()\n",
    "scaler.fit(features_train[numeric])\n",
    "features_train[numeric] = scaler.transform(features_train[numeric])\n",
    "features_valid[numeric] = scaler.transform(features_valid[numeric])\n",
    "features_test[numeric] = scaler.transform(features_test[numeric])"
   ]
  },
  {
   "cell_type": "markdown",
   "metadata": {},
   "source": [
    "## Исследование задачи"
   ]
  },
  {
   "cell_type": "markdown",
   "metadata": {},
   "source": [
    "### Исследуем баланс классов"
   ]
  },
  {
   "cell_type": "code",
   "execution_count": 19,
   "metadata": {},
   "outputs": [
    {
     "data": {
      "text/plain": [
       "0    0.791\n",
       "1    0.209\n",
       "Name: exited, dtype: float64"
      ]
     },
     "execution_count": 19,
     "metadata": {},
     "output_type": "execute_result"
    }
   ],
   "source": [
    "target_valid.value_counts(normalize=1)"
   ]
  },
  {
   "cell_type": "code",
   "execution_count": 20,
   "metadata": {},
   "outputs": [
    {
     "data": {
      "text/plain": [
       "<AxesSubplot:>"
      ]
     },
     "execution_count": 20,
     "metadata": {},
     "output_type": "execute_result"
    },
    {
     "data": {
      "image/png": "[encoded data removed]",
      "text/plain": [
       "<Figure size 432x288 with 1 Axes>"
      ]
     },
     "metadata": {
      "needs_background": "light"
     },
     "output_type": "display_data"
    }
   ],
   "source": [
    "target_valid.value_counts(normalize=1).plot.bar()"
   ]
  },
  {
   "cell_type": "markdown",
   "metadata": {},
   "source": [
    "Есть дисбаланс классов, их соотношение 4 к 1, что далеко от 1:1. Это плохо сказывается на обучении модели. "
   ]
  },
  {
   "cell_type": "markdown",
   "metadata": {},
   "source": [
    "### Обучим модель без учёта дисбаланса"
   ]
  },
  {
   "cell_type": "code",
   "execution_count": 21,
   "metadata": {},
   "outputs": [],
   "source": [
    "# логистическая модель\n",
    "def logistic_model(features_train, target_train,\n",
    "                   features_valid, target_valid, balance=None):\n",
    "    if balance:\n",
    "        balance = 'balanced'\n",
    "    model = LogisticRegression(random_state=12345, solver='lbfgs', class_weight=balance)\n",
    "    model.fit(features_train, target_train)\n",
    "    predicted_valid = model.predict(features_valid)\n",
    "    score = f1_score(target_valid, predicted_valid)\n",
    "    probabilities_one_valid = model.predict_proba(features_valid)[:, 1]\n",
    "    \n",
    "    print(f'Логистическая f1: {score:0.2}')\n",
    "    print(f'recall: {recall_score(target_valid, predicted_valid):0.3}')\n",
    "    print(f'precision: {precision_score(target_valid, predicted_valid):0.3}')\n",
    "    print(f'AUC:{roc_auc_score(target_valid, probabilities_one_valid):0.3}')\n",
    "    \n",
    "    return model, score"
   ]
  },
  {
   "cell_type": "code",
   "execution_count": 22,
   "metadata": {},
   "outputs": [],
   "source": [
    "# дерево\n",
    "def find_best_tree(features_train, target_train,\n",
    "                     features_valid, target_valid,\n",
    "                     depth_list, balance=None):\n",
    "    if balance:\n",
    "        balance = 'balanced'\n",
    "    best_f1_score = 0\n",
    "    best_depth = depth_list[0]\n",
    "    for depth in depth_list:\n",
    "        model = DecisionTreeClassifier(random_state=12345, max_depth=depth, class_weight=balance)\n",
    "        model.fit(features_train, target_train)\n",
    "        predicted_valid = model.predict(features_valid)\n",
    "        score = f1_score(target_valid, predicted_valid)\n",
    "        if best_f1_score < score:\n",
    "            best_model_predict = predicted_valid\n",
    "            best_model = model\n",
    "            best_f1_score = score\n",
    "            best_depth = depth\n",
    "            \n",
    "    probabilities_one_valid = best_model.predict_proba(features_valid)[:, 1]\n",
    "    \n",
    "    print(f'Лучший f1 дерева: {best_f1_score:0.4}, глубина: {best_depth}')\n",
    "    print(f'recall: {recall_score(target_valid, best_model_predict):0.3}')\n",
    "    print(f'precision: {precision_score(target_valid, best_model_predict):0.3}')\n",
    "    print(f'AUC:{roc_auc_score(target_valid, probabilities_one_valid):0.3}')\n",
    "    \n",
    "    return best_model, best_f1_score, best_depth"
   ]
  },
  {
   "cell_type": "code",
   "execution_count": 23,
   "metadata": {},
   "outputs": [],
   "source": [
    "# лес\n",
    "def find_best_forest(features_train, target_train,\n",
    "                     features_valid, target_valid,\n",
    "                     depth_list, est_list, balance=None):\n",
    "    if balance:\n",
    "        balance = 'balanced'\n",
    "    best_f1_score = 0\n",
    "    best_depth = depth_list[0]\n",
    "    best_est = est_list[0]\n",
    "    for est in est_list:\n",
    "        for depth in depth_list:\n",
    "            model = RandomForestClassifier(random_state=12345, max_depth=depth,\n",
    "                                           n_estimators=est, class_weight=balance)\n",
    "            model.fit(features_train, target_train)\n",
    "            predicted_valid = model.predict(features_valid)\n",
    "            score = f1_score(target_valid, predicted_valid)\n",
    "            if best_f1_score < score:\n",
    "                best_model = model\n",
    "                best_f1_score = score\n",
    "                best_depth = depth\n",
    "                best_est = est\n",
    "    \n",
    "    best_predict = best_model.predict(features_valid)\n",
    "    probabilities_one_valid = best_model.predict_proba(features_valid)[:, 1]\n",
    "    \n",
    "    print(f'Лучший f1: {best_f1_score:0.4}, глубина: {best_depth}, деревьев: {best_est}')\n",
    "    print(f'recall: {recall_score(target_valid, best_predict):0.3}')\n",
    "    print(f'precision: {precision_score(target_valid, best_predict):0.3}')\n",
    "    print(f'AUC:{roc_auc_score(target_valid, probabilities_one_valid):0.3}')\n",
    "    \n",
    "    return best_model, best_f1_score, best_depth, best_est, probabilities_one_valid"
   ]
  },
  {
   "cell_type": "code",
   "execution_count": 24,
   "metadata": {},
   "outputs": [
    {
     "name": "stdout",
     "output_type": "stream",
     "text": [
      "Логистическая f1: 0.33\n",
      "recall: 0.234\n",
      "precision: 0.563\n",
      "AUC:0.759\n"
     ]
    }
   ],
   "source": [
    "model, score = logistic_model(\n",
    "    features_train, target_train, features_valid, target_valid)"
   ]
  },
  {
   "cell_type": "code",
   "execution_count": 25,
   "metadata": {},
   "outputs": [
    {
     "name": "stdout",
     "output_type": "stream",
     "text": [
      "Лучший f1 дерева: 0.5697, глубина: 6\n",
      "recall: 0.45\n",
      "precision: 0.777\n",
      "AUC:0.816\n"
     ]
    }
   ],
   "source": [
    "model, score, depth = find_best_tree(\n",
    "    features_train, target_train,\n",
    "    features_valid, target_valid, depth_list=range(1, 11))"
   ]
  },
  {
   "cell_type": "code",
   "execution_count": 26,
   "metadata": {},
   "outputs": [
    {
     "name": "stdout",
     "output_type": "stream",
     "text": [
      "Лучший f1: 0.5891, глубина: 10, деревьев: 10\n",
      "recall: 0.467\n",
      "precision: 0.799\n",
      "AUC:0.846\n",
      "CPU times: user 4.47 s, sys: 12 ms, total: 4.49 s\n",
      "Wall time: 4.5 s\n"
     ]
    }
   ],
   "source": [
    "%%time\n",
    "model, score, depth, est, proba_one = find_best_forest(\n",
    "    features_train, target_train,\n",
    "    features_valid, target_valid, depth_list=range(1, 11), est_list=range(10,50,10))"
   ]
  },
  {
   "cell_type": "code",
   "execution_count": 27,
   "metadata": {},
   "outputs": [
    {
     "data": {
      "image/png": "[encoded data removed]",
      "text/plain": [
       "<Figure size 288x216 with 1 Axes>"
      ]
     },
     "metadata": {
      "needs_background": "light"
     },
     "output_type": "display_data"
    }
   ],
   "source": [
    "# функция для графика ROC\n",
    "def draw_roc(target, probability_one):\n",
    "    fpr, tpr, thresholds = roc_curve(target, probability_one)\n",
    "    \n",
    "    plt.figure(figsize=(4, 3))\n",
    "    plt.plot(fpr, tpr)\n",
    "    plt.plot([0, 1], [0, 1], linestyle='--')\n",
    "    plt.xlim([0, 1])\n",
    "    plt.ylim([0, 1])\n",
    "    plt.xlabel('False Positive Rate')\n",
    "    plt.ylabel('True Positive Rate')\n",
    "    plt.title('ROC-кривая')\n",
    "    plt.show()\n",
    "\n",
    "# график ROC для леса\n",
    "draw_roc(target_valid, proba_one)"
   ]
  },
  {
   "cell_type": "markdown",
   "metadata": {},
   "source": [
    "## Борьба с дисбалансом"
   ]
  },
  {
   "cell_type": "markdown",
   "metadata": {},
   "source": [
    "Попробуем разные способы и сравним их. Выберем лучшую модель, и подберем пороги."
   ]
  },
  {
   "cell_type": "markdown",
   "metadata": {},
   "source": [
    "### Весовой баланс"
   ]
  },
  {
   "cell_type": "code",
   "execution_count": 28,
   "metadata": {
    "scrolled": true
   },
   "outputs": [
    {
     "name": "stdout",
     "output_type": "stream",
     "text": [
      "Логистическая f1: 0.49\n",
      "recall: 0.682\n",
      "precision: 0.381\n",
      "AUC:0.764\n"
     ]
    }
   ],
   "source": [
    "# логистическая\n",
    "model, score = logistic_model(\n",
    "    features_train, target_train, features_valid, target_valid, balance=True)"
   ]
  },
  {
   "cell_type": "code",
   "execution_count": 29,
   "metadata": {},
   "outputs": [
    {
     "name": "stdout",
     "output_type": "stream",
     "text": [
      "Лучший f1 дерева: 0.5964, глубина: 5\n",
      "recall: 0.67\n",
      "precision: 0.537\n",
      "AUC:0.831\n"
     ]
    }
   ],
   "source": [
    "# дерево\n",
    "model, score, depth = find_best_tree(\n",
    "    features_train, target_train,\n",
    "    features_valid, target_valid, depth_list=range(1, 11), balance=True)"
   ]
  },
  {
   "cell_type": "code",
   "execution_count": 30,
   "metadata": {
    "scrolled": true
   },
   "outputs": [
    {
     "name": "stdout",
     "output_type": "stream",
     "text": [
      "Лучший f1: 0.6237, глубина: 8, деревьев: 40\n",
      "recall: 0.694\n",
      "precision: 0.566\n",
      "AUC:0.855\n",
      "CPU times: user 4.48 s, sys: 5.75 ms, total: 4.49 s\n",
      "Wall time: 4.49 s\n"
     ]
    }
   ],
   "source": [
    "%%time\n",
    "# лес\n",
    "model, score, depth, est, proba_one = find_best_forest(\n",
    "    features_train, target_train,\n",
    "    features_valid, target_valid, depth_list=range(1, 11), est_list=range(10, 50, 10), balance=True)"
   ]
  },
  {
   "cell_type": "code",
   "execution_count": 31,
   "metadata": {},
   "outputs": [
    {
     "data": {
      "image/png": "[encoded data removed]",
      "text/plain": [
       "<Figure size 288x216 with 1 Axes>"
      ]
     },
     "metadata": {
      "needs_background": "light"
     },
     "output_type": "display_data"
    }
   ],
   "source": [
    "# график ROC для леса\n",
    "draw_roc(target_valid, proba_one)"
   ]
  },
  {
   "cell_type": "markdown",
   "metadata": {},
   "source": [
    "У всех моделей результат сильно лучше, чем без баланса совсем. Вырос F1 и полнота. Но у всех упала точность, они с полнотой противоположны по своей природе. AUC не изменился, хотя у леса график кривой изменился."
   ]
  },
  {
   "cell_type": "markdown",
   "metadata": {},
   "source": [
    "### Увеличение выборки через upsampling"
   ]
  },
  {
   "cell_type": "code",
   "execution_count": 32,
   "metadata": {},
   "outputs": [],
   "source": [
    "def upsample(features, target, repeat):\n",
    "    features_zeros = features[target == 0]\n",
    "    features_ones = features[target == 1]\n",
    "    target_zeros = target[target == 0]\n",
    "    target_ones = target[target == 1]\n",
    "    features_upsampled = pd.concat([features_zeros] + [features_ones] * repeat)\n",
    "    target_upsampled = pd.concat([target_zeros] + [target_ones] * repeat)\n",
    "    features_upsampled, target_upsampled = shuffle(features_upsampled,\n",
    "                                                  target_upsampled, random_state=12345)\n",
    "    return features_upsampled, target_upsampled\n",
    "\n",
    "features_train_upsampled, target_train_upsampled = upsample(features_train, target_train, 4)"
   ]
  },
  {
   "cell_type": "code",
   "execution_count": 33,
   "metadata": {
    "scrolled": true
   },
   "outputs": [
    {
     "name": "stdout",
     "output_type": "stream",
     "text": [
      "Логистическая f1: 0.49\n",
      "recall: 0.682\n",
      "precision: 0.381\n",
      "AUC:0.764\n"
     ]
    }
   ],
   "source": [
    "# логистическая\n",
    "model, score = logistic_model(\n",
    "    features_train_upsampled, target_train_upsampled, features_valid, target_valid)"
   ]
  },
  {
   "cell_type": "code",
   "execution_count": 34,
   "metadata": {},
   "outputs": [
    {
     "name": "stdout",
     "output_type": "stream",
     "text": [
      "Лучший f1 дерева: 0.5964, глубина: 5\n",
      "recall: 0.67\n",
      "precision: 0.537\n",
      "AUC:0.831\n"
     ]
    }
   ],
   "source": [
    "# дерево\n",
    "model, score, depth = find_best_tree(\n",
    "    features_train_upsampled, target_train_upsampled,\n",
    "    features_valid, target_valid, depth_list=range(1, 11))"
   ]
  },
  {
   "cell_type": "code",
   "execution_count": 35,
   "metadata": {
    "scrolled": false
   },
   "outputs": [
    {
     "name": "stdout",
     "output_type": "stream",
     "text": [
      "Лучший f1: 0.624, глубина: 8, деревьев: 30\n",
      "recall: 0.722\n",
      "precision: 0.549\n",
      "AUC:0.853\n",
      "CPU times: user 5.86 s, sys: 13.1 ms, total: 5.87 s\n",
      "Wall time: 5.94 s\n"
     ]
    }
   ],
   "source": [
    "%%time\n",
    "# лес\n",
    "model, score, depth, est, proba_one = find_best_forest(\n",
    "    features_train_upsampled, target_train_upsampled,\n",
    "    features_valid, target_valid, depth_list=range(1, 11), est_list=range(10, 50, 10))"
   ]
  },
  {
   "cell_type": "markdown",
   "metadata": {},
   "source": [
    "И эти результаты лучше, чем с несбалансированными классами.\n",
    "\n",
    "По сравнению со сбалансированным весом - увеличение выборки дало точно такие же результаты для логистической модели и дерева, только у леса выше полнота и ниже точность, при том же F1."
   ]
  },
  {
   "cell_type": "markdown",
   "metadata": {},
   "source": [
    "### Уменьшение выборки через downsampling"
   ]
  },
  {
   "cell_type": "code",
   "execution_count": 36,
   "metadata": {},
   "outputs": [],
   "source": [
    "def downsample(features, target, fraction):\n",
    "    features_zeros = features[target == 0]\n",
    "    features_ones = features[target == 1]\n",
    "    target_zeros = target[target == 0]\n",
    "    target_ones = target[target == 1]\n",
    "    features_downsampled = pd.concat(\n",
    "        [features_zeros.sample(frac=fraction, random_state=12345)] + [features_ones])\n",
    "    target_downsampled = pd.concat(\n",
    "        [target_zeros.sample(frac=fraction, random_state=12345)] + [target_ones])\n",
    "    features_downsampled, target_downsampled = shuffle(\n",
    "        features_downsampled, target_downsampled, random_state=12345)\n",
    "    return features_downsampled, target_downsampled\n",
    "\n",
    "features_train_downsampled, target_train_downsampled = downsample(features_train, target_train, 0.25)"
   ]
  },
  {
   "cell_type": "code",
   "execution_count": 37,
   "metadata": {
    "scrolled": true
   },
   "outputs": [
    {
     "name": "stdout",
     "output_type": "stream",
     "text": [
      "Логистическая f1: 0.48\n",
      "recall: 0.672\n",
      "precision: 0.378\n",
      "AUC:0.762\n"
     ]
    }
   ],
   "source": [
    "# логистическая\n",
    "model, score = logistic_model(\n",
    "    features_train_downsampled, target_train_downsampled, features_valid, target_valid)"
   ]
  },
  {
   "cell_type": "code",
   "execution_count": 38,
   "metadata": {},
   "outputs": [
    {
     "name": "stdout",
     "output_type": "stream",
     "text": [
      "Лучший f1 дерева: 0.5943, глубина: 5\n",
      "recall: 0.701\n",
      "precision: 0.516\n",
      "AUC:0.824\n"
     ]
    }
   ],
   "source": [
    "# дерево\n",
    "model, score, depth = find_best_tree(\n",
    "    features_train_downsampled, target_train_downsampled,\n",
    "    features_valid, target_valid, depth_list=range(1, 11))"
   ]
  },
  {
   "cell_type": "code",
   "execution_count": 39,
   "metadata": {
    "scrolled": true
   },
   "outputs": [
    {
     "name": "stdout",
     "output_type": "stream",
     "text": [
      "Лучший f1: 0.6092, глубина: 4, деревьев: 10\n",
      "recall: 0.727\n",
      "precision: 0.524\n",
      "AUC:0.835\n",
      "CPU times: user 11.4 s, sys: 63.4 ms, total: 11.4 s\n",
      "Wall time: 13.2 s\n"
     ]
    }
   ],
   "source": [
    "%%time\n",
    "# лес\n",
    "model, score, depth, est, proba_one = find_best_forest(\n",
    "    features_train_downsampled, target_train_downsampled,\n",
    "    features_valid, target_valid, depth_list=range(1, 11), est_list=range(10,100,10))"
   ]
  },
  {
   "cell_type": "markdown",
   "metadata": {},
   "source": [
    "- Логистическая модель почти не изменилась по сравнению с увеличенной выборкой.\n",
    "- У дерева немного выросла полнота, но уменьшилась точность и немного F1 и AUC.\n",
    "- У леса полнота почти такая же, но уменьшилась точность, F1 и AUC."
   ]
  },
  {
   "cell_type": "markdown",
   "metadata": {},
   "source": [
    "### Подбор порога"
   ]
  },
  {
   "cell_type": "markdown",
   "metadata": {},
   "source": [
    "Выберем модель.\n",
    "\n",
    "Лучше всего показал себя сбалансированный лес с F1 = 0.6237, глубиной 8, числом деревьев 40."
   ]
  },
  {
   "cell_type": "code",
   "execution_count": 40,
   "metadata": {},
   "outputs": [],
   "source": [
    "model = RandomForestClassifier(random_state=12345, max_depth=8,\n",
    "                               n_estimators=40, class_weight='balanced')\n",
    "model.fit(features_train, target_train)\n",
    "probabilities_one_valid = model.predict_proba(features_valid)[:, 1]"
   ]
  },
  {
   "cell_type": "code",
   "execution_count": 41,
   "metadata": {
    "scrolled": true
   },
   "outputs": [
    {
     "name": "stdout",
     "output_type": "stream",
     "text": [
      "Порог = 0.00 | F1 = 0.346 Точность = 0.209, Полнота = 1.000\n",
      "Порог = 0.05 | F1 = 0.346 Точность = 0.209, Полнота = 1.000\n",
      "Порог = 0.10 | F1 = 0.368 Точность = 0.226, Полнота = 0.995\n",
      "Порог = 0.15 | F1 = 0.402 Точность = 0.254, Полнота = 0.971\n",
      "Порог = 0.20 | F1 = 0.432 Точность = 0.280, Полнота = 0.945\n",
      "Порог = 0.25 | F1 = 0.463 Точность = 0.310, Полнота = 0.916\n",
      "Порог = 0.30 | F1 = 0.505 Точность = 0.353, Полнота = 0.888\n",
      "Порог = 0.35 | F1 = 0.547 Точность = 0.402, Полнота = 0.856\n",
      "Порог = 0.40 | F1 = 0.580 Точность = 0.456, Полнота = 0.799\n",
      "Порог = 0.45 | F1 = 0.616 Точность = 0.520, Полнота = 0.756\n",
      "Порог = 0.50 | F1 = 0.624 Точность = 0.566, Полнота = 0.694\n",
      "Порог = 0.55 | F1 = 0.630 Точность = 0.639, Полнота = 0.622\n",
      "Порог = 0.60 | F1 = 0.612 Точность = 0.685, Полнота = 0.553\n",
      "Порог = 0.65 | F1 = 0.588 Точность = 0.739, Полнота = 0.488\n",
      "Порог = 0.70 | F1 = 0.542 Точность = 0.768, Полнота = 0.419\n",
      "Порог = 0.75 | F1 = 0.497 Точность = 0.823, Полнота = 0.356\n",
      "Порог = 0.80 | F1 = 0.439 Точность = 0.884, Полнота = 0.292\n",
      "Порог = 0.85 | F1 = 0.323 Точность = 0.911, Полнота = 0.196\n",
      "Порог = 0.90 | F1 = 0.162 Точность = 0.949, Полнота = 0.089\n",
      "Порог = 0.95 | F1 = 0.033 Точность = 1.000, Полнота = 0.017\n"
     ]
    }
   ],
   "source": [
    "for threshold in np.arange(0, 1, 0.05):\n",
    "    predicted_valid = probabilities_one_valid > threshold\n",
    "    f1 = f1_score(target_valid, predicted_valid)\n",
    "    precision = precision_score(target_valid, predicted_valid)\n",
    "    recall = recall_score(target_valid, predicted_valid)\n",
    "    print(f\"Порог = {threshold:.2f} | F1 = {f1:.3f} Точность = {precision:.3f}, Полнота = {recall:.3f}\")"
   ]
  },
  {
   "cell_type": "markdown",
   "metadata": {},
   "source": [
    "Получается, порог должен быть 0.55, и тогда F1 будет 0.63"
   ]
  },
  {
   "cell_type": "markdown",
   "metadata": {},
   "source": [
    "## Тестирование модели"
   ]
  },
  {
   "cell_type": "code",
   "execution_count": 42,
   "metadata": {},
   "outputs": [
    {
     "data": {
      "text/plain": [
       "0.6004842615012106"
      ]
     },
     "execution_count": 42,
     "metadata": {},
     "output_type": "execute_result"
    }
   ],
   "source": [
    "# Берем модель сбалансированного леса, получаем оценку теста, и применяем порог\n",
    "probabilities_one_test = model.predict_proba(features_test)[:, 1]\n",
    "\n",
    "f1_score(target_test, probabilities_one_test > 0.55)"
   ]
  },
  {
   "cell_type": "code",
   "execution_count": 43,
   "metadata": {},
   "outputs": [
    {
     "data": {
      "text/plain": [
       "0.5976008724100327"
      ]
     },
     "execution_count": 43,
     "metadata": {},
     "output_type": "execute_result"
    }
   ],
   "source": [
    "# получим оценку теста без применения порога\n",
    "probabilities_one_test = model.predict_proba(features_test)[:, 1]\n",
    "\n",
    "f1_score(target_test, probabilities_one_test > 0.5)"
   ]
  },
  {
   "cell_type": "code",
   "execution_count": 44,
   "metadata": {},
   "outputs": [
    {
     "data": {
      "text/plain": [
       "RandomForestClassifier(class_weight='balanced', max_depth=8, n_estimators=40,\n",
       "                       random_state=12345)"
      ]
     },
     "execution_count": 44,
     "metadata": {},
     "output_type": "execute_result"
    }
   ],
   "source": [
    "# обучим на объедененных данных\n",
    "features_full_train = pd.concat([features_train, features_valid])\n",
    "target_full_train = pd.concat([target_train, target_valid])\n",
    "\n",
    "model = RandomForestClassifier(random_state=12345, max_depth=8,\n",
    "                               n_estimators=40, class_weight='balanced')\n",
    "model.fit(features_full_train, target_full_train)"
   ]
  },
  {
   "cell_type": "code",
   "execution_count": 45,
   "metadata": {},
   "outputs": [
    {
     "data": {
      "text/plain": [
       "0.6221743810548978"
      ]
     },
     "execution_count": 45,
     "metadata": {},
     "output_type": "execute_result"
    }
   ],
   "source": [
    "# получаем оценку теста без применения порога\n",
    "probabilities_one_test = model.predict_proba(features_test)[:, 1]\n",
    "\n",
    "f1_score(target_test, probabilities_one_test > 0.5)"
   ]
  },
  {
   "cell_type": "markdown",
   "metadata": {},
   "source": [
    "## Выводы"
   ]
  },
  {
   "cell_type": "markdown",
   "metadata": {},
   "source": [
    "Данные разделены на выборки. В них оказался дисбаланс 4:1. В процессе подбора способа борьбы с дисбалансом увеличение полноты сопровождалось уменьшением точности. Балансировка по весу получила тот же результат, что и увеличение выборки, а уменьшенная выборка оказалась хуже по большинству показателей всех моделей.\n",
    "\n",
    "AUC самый низкий у логистической модели, выше у дерева решений, еще выше случайный лес.\n",
    "Также AUC выше после балансировки классов, кроме уменьшенной выборки.\n",
    "\n",
    "Выбран случайный лес с весовым балансом, и для него перебраны пороги, выбран порог 0.55\n",
    "\n",
    "Получилось добиться F1 = 0.63 на валидационной выборке.\n",
    "\n",
    "Тест модели дает F1 = 0.59, а со сдвигом порога удалось достичь F1 = 0.6\n",
    "\n",
    "Но можно добиться и большего, если совместить валидационную и тренировочную выборки.\n",
    "Обученная на этих объединенных данных модель достигает на тестовой выборке F1 = 0.62"
   ]
  }
 ],
 "metadata": {
  "ExecuteTimeLog": [
   {
    "duration": 824,
    "start_time": "2023-02-06T03:00:53.333Z"
   },
   {
    "duration": 164,
    "start_time": "2023-02-06T03:00:54.160Z"
   },
   {
    "duration": 17,
    "start_time": "2023-02-06T03:00:54.326Z"
   },
   {
    "duration": 14,
    "start_time": "2023-02-06T03:00:54.345Z"
   },
   {
    "duration": 1212,
    "start_time": "2023-02-06T03:00:54.360Z"
   },
   {
    "duration": 7,
    "start_time": "2023-02-06T03:00:55.573Z"
   },
   {
    "duration": 57,
    "start_time": "2023-02-06T03:00:55.582Z"
   },
   {
    "duration": 17,
    "start_time": "2023-02-06T03:00:55.641Z"
   },
   {
    "duration": 13,
    "start_time": "2023-02-06T03:00:55.659Z"
   },
   {
    "duration": 39,
    "start_time": "2023-02-06T03:00:55.675Z"
   },
   {
    "duration": 24,
    "start_time": "2023-02-06T03:00:55.715Z"
   },
   {
    "duration": 31,
    "start_time": "2023-02-06T03:00:55.741Z"
   },
   {
    "duration": 19,
    "start_time": "2023-02-06T03:00:55.774Z"
   },
   {
    "duration": 33,
    "start_time": "2023-02-06T03:00:55.795Z"
   },
   {
    "duration": 29,
    "start_time": "2023-02-06T03:00:55.829Z"
   },
   {
    "duration": 838,
    "start_time": "2023-02-06T03:00:55.860Z"
   },
   {
    "duration": 3,
    "start_time": "2023-02-06T03:00:56.700Z"
   },
   {
    "duration": 58,
    "start_time": "2023-02-06T03:00:56.705Z"
   },
   {
    "duration": 133,
    "start_time": "2023-02-06T03:00:56.765Z"
   },
   {
    "duration": 7,
    "start_time": "2023-02-06T03:00:56.900Z"
   },
   {
    "duration": 19,
    "start_time": "2023-02-06T03:00:56.909Z"
   },
   {
    "duration": 45,
    "start_time": "2023-02-06T03:00:56.930Z"
   },
   {
    "duration": 47,
    "start_time": "2023-02-06T03:00:56.977Z"
   },
   {
    "duration": 317,
    "start_time": "2023-02-06T03:00:57.026Z"
   },
   {
    "duration": 268,
    "start_time": "2023-02-06T03:00:57.345Z"
   },
   {
    "duration": 4082,
    "start_time": "2023-02-06T03:00:57.615Z"
   },
   {
    "duration": 137,
    "start_time": "2023-02-06T03:01:01.699Z"
   },
   {
    "duration": 402,
    "start_time": "2023-02-06T03:01:01.839Z"
   },
   {
    "duration": 308,
    "start_time": "2023-02-06T03:01:02.243Z"
   },
   {
    "duration": 4527,
    "start_time": "2023-02-06T03:01:02.553Z"
   },
   {
    "duration": 139,
    "start_time": "2023-02-06T03:01:07.082Z"
   },
   {
    "duration": 24,
    "start_time": "2023-02-06T03:01:07.224Z"
   },
   {
    "duration": 389,
    "start_time": "2023-02-06T03:01:07.250Z"
   },
   {
    "duration": 330,
    "start_time": "2023-02-06T03:01:07.642Z"
   },
   {
    "duration": 5954,
    "start_time": "2023-02-06T03:01:07.973Z"
   },
   {
    "duration": 18,
    "start_time": "2023-02-06T03:01:13.929Z"
   },
   {
    "duration": 291,
    "start_time": "2023-02-06T03:01:13.949Z"
   },
   {
    "duration": 200,
    "start_time": "2023-02-06T03:01:14.242Z"
   },
   {
    "duration": 11832,
    "start_time": "2023-02-06T03:01:14.444Z"
   },
   {
    "duration": 216,
    "start_time": "2023-02-06T03:01:26.278Z"
   },
   {
    "duration": 94,
    "start_time": "2023-02-06T03:01:26.495Z"
   },
   {
    "duration": 23,
    "start_time": "2023-02-06T03:01:26.591Z"
   },
   {
    "duration": 1653,
    "start_time": "2023-02-07T03:35:39.167Z"
   },
   {
    "duration": 81,
    "start_time": "2023-02-07T03:35:40.822Z"
   },
   {
    "duration": 24,
    "start_time": "2023-02-07T03:35:40.905Z"
   },
   {
    "duration": 14,
    "start_time": "2023-02-07T03:35:40.932Z"
   },
   {
    "duration": 1232,
    "start_time": "2023-02-07T03:35:40.947Z"
   },
   {
    "duration": 6,
    "start_time": "2023-02-07T03:35:42.181Z"
   },
   {
    "duration": 53,
    "start_time": "2023-02-07T03:35:42.189Z"
   },
   {
    "duration": 12,
    "start_time": "2023-02-07T03:35:42.244Z"
   },
   {
    "duration": 4,
    "start_time": "2023-02-07T03:35:42.257Z"
   },
   {
    "duration": 10,
    "start_time": "2023-02-07T03:35:42.263Z"
   },
   {
    "duration": 17,
    "start_time": "2023-02-07T03:35:42.275Z"
   },
   {
    "duration": 7,
    "start_time": "2023-02-07T03:35:42.294Z"
   },
   {
    "duration": 4,
    "start_time": "2023-02-07T03:35:42.310Z"
   },
   {
    "duration": 10,
    "start_time": "2023-02-07T03:35:42.316Z"
   },
   {
    "duration": 3,
    "start_time": "2023-02-07T03:35:42.328Z"
   },
   {
    "duration": 9,
    "start_time": "2023-02-07T03:35:42.333Z"
   },
   {
    "duration": 3,
    "start_time": "2023-02-07T03:35:42.343Z"
   },
   {
    "duration": 25,
    "start_time": "2023-02-07T03:35:42.348Z"
   },
   {
    "duration": 37,
    "start_time": "2023-02-07T03:35:42.375Z"
   },
   {
    "duration": 122,
    "start_time": "2023-02-07T03:35:42.413Z"
   },
   {
    "duration": 4,
    "start_time": "2023-02-07T03:35:42.537Z"
   },
   {
    "duration": 8,
    "start_time": "2023-02-07T03:35:42.542Z"
   },
   {
    "duration": 5,
    "start_time": "2023-02-07T03:35:42.552Z"
   },
   {
    "duration": 352,
    "start_time": "2023-02-07T03:35:42.559Z"
   },
   {
    "duration": 299,
    "start_time": "2023-02-07T03:35:42.913Z"
   },
   {
    "duration": 4499,
    "start_time": "2023-02-07T03:35:43.213Z"
   },
   {
    "duration": 116,
    "start_time": "2023-02-07T03:35:47.714Z"
   },
   {
    "duration": 184,
    "start_time": "2023-02-07T03:35:47.833Z"
   },
   {
    "duration": 354,
    "start_time": "2023-02-07T03:35:48.019Z"
   },
   {
    "duration": 4498,
    "start_time": "2023-02-07T03:35:48.374Z"
   },
   {
    "duration": 119,
    "start_time": "2023-02-07T03:35:52.874Z"
   },
   {
    "duration": 19,
    "start_time": "2023-02-07T03:35:52.994Z"
   },
   {
    "duration": 296,
    "start_time": "2023-02-07T03:35:53.014Z"
   },
   {
    "duration": 333,
    "start_time": "2023-02-07T03:35:53.312Z"
   },
   {
    "duration": 5945,
    "start_time": "2023-02-07T03:35:53.646Z"
   },
   {
    "duration": 17,
    "start_time": "2023-02-07T03:35:59.593Z"
   },
   {
    "duration": 107,
    "start_time": "2023-02-07T03:35:59.611Z"
   },
   {
    "duration": 274,
    "start_time": "2023-02-07T03:35:59.719Z"
   },
   {
    "duration": 13232,
    "start_time": "2023-02-07T03:35:59.995Z"
   },
   {
    "duration": 235,
    "start_time": "2023-02-07T03:36:13.228Z"
   },
   {
    "duration": 85,
    "start_time": "2023-02-07T03:36:13.465Z"
   },
   {
    "duration": 19,
    "start_time": "2023-02-07T03:36:13.551Z"
   },
   {
    "duration": 18,
    "start_time": "2023-02-07T03:36:13.572Z"
   },
   {
    "duration": 281,
    "start_time": "2023-02-07T03:36:13.591Z"
   },
   {
    "duration": 19,
    "start_time": "2023-02-07T03:36:13.874Z"
   }
  ],
  "kernelspec": {
   "display_name": "Python 3 (ipykernel)",
   "language": "python",
   "name": "python3"
  },
  "language_info": {
   "codemirror_mode": {
    "name": "ipython",
    "version": 3
   },
   "file_extension": ".py",
   "mimetype": "text/x-python",
   "name": "python",
   "nbconvert_exporter": "python",
   "pygments_lexer": "ipython3",
   "version": "3.9.16"
  },
  "toc": {
   "base_numbering": 1,
   "nav_menu": {},
   "number_sections": true,
   "sideBar": true,
   "skip_h1_title": true,
   "title_cell": "Содержание",
   "title_sidebar": "Contents",
   "toc_cell": true,
   "toc_position": {
    "height": "calc(100% - 180px)",
    "left": "10px",
    "top": "150px",
    "width": "256px"
   },
   "toc_section_display": true,
   "toc_window_display": true
  }
 },
 "nbformat": 4,
 "nbformat_minor": 2
}
