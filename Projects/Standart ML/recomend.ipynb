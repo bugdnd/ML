{
 "cells": [
  {
   "cell_type": "markdown",
   "metadata": {},
   "source": [
    "# Рекомендация тарифов"
   ]
  },
  {
   "cell_type": "markdown",
   "metadata": {},
   "source": [
    "Оператор мобильной связи «Мегалайн» выяснил: многие клиенты пользуются архивными тарифами. Они хотят построить систему, способную проанализировать поведение клиентов и предложить пользователям новый тариф: «Смарт» или «Ультра».\n",
    "\n",
    "В нашем распоряжении данные о поведении клиентов, которые уже перешли на новые тарифы. Нужно построить модель для выбора подходящего тарифа. Модель должна быть с максимально большим значением *accuracy*. Нужно довести долю правильных ответов по крайней мере до 0.75."
   ]
  },
  {
   "cell_type": "markdown",
   "metadata": {},
   "source": [
    "Описание данных\n",
    "\n",
    "Каждый объект в наборе данных — это информация о поведении одного пользователя за месяц.\n",
    "\n",
    "Известно:\n",
    "\n",
    "- сalls — количество звонков,\n",
    "- minutes — суммарная длительность звонков в минутах,\n",
    "- messages — количество sms-сообщений,\n",
    "- mb_used — израсходованный интернет-трафик в Мб,\n",
    "- is_ultra — каким тарифом пользовался в течение месяца («Ультра» — 1, «Смарт» — 0)."
   ]
  },
  {
   "cell_type": "markdown",
   "metadata": {},
   "source": [
    "<a id=\"1.0\"></a>\n",
    "## Открыть и изучить файл"
   ]
  },
  {
   "cell_type": "code",
   "execution_count": 1,
   "metadata": {},
   "outputs": [],
   "source": [
    "import pandas as pd\n",
    "pd.options.display.max_rows = 999\n",
    "\n",
    "import warnings\n",
    "warnings.filterwarnings(\"ignore\")"
   ]
  },
  {
   "cell_type": "code",
   "execution_count": 2,
   "metadata": {},
   "outputs": [],
   "source": [
    "try:\n",
    "    data = pd.read_csv('/datasets/users_behavior.csv', sep=',')\n",
    "except:\n",
    "    data = pd.read_csv('users_behavior.csv', sep=',')"
   ]
  },
  {
   "cell_type": "code",
   "execution_count": 3,
   "metadata": {},
   "outputs": [
    {
     "data": {
      "text/html": [
       "<div>\n",
       "<style scoped>\n",
       "    .dataframe tbody tr th:only-of-type {\n",
       "        vertical-align: middle;\n",
       "    }\n",
       "\n",
       "    .dataframe tbody tr th {\n",
       "        vertical-align: top;\n",
       "    }\n",
       "\n",
       "    .dataframe thead th {\n",
       "        text-align: right;\n",
       "    }\n",
       "</style>\n",
       "<table border=\"1\" class=\"dataframe\">\n",
       "  <thead>\n",
       "    <tr style=\"text-align: right;\">\n",
       "      <th></th>\n",
       "      <th>calls</th>\n",
       "      <th>minutes</th>\n",
       "      <th>messages</th>\n",
       "      <th>mb_used</th>\n",
       "      <th>is_ultra</th>\n",
       "    </tr>\n",
       "  </thead>\n",
       "  <tbody>\n",
       "    <tr>\n",
       "      <th>0</th>\n",
       "      <td>40.0</td>\n",
       "      <td>311.90</td>\n",
       "      <td>83.0</td>\n",
       "      <td>19915.42</td>\n",
       "      <td>0</td>\n",
       "    </tr>\n",
       "    <tr>\n",
       "      <th>1</th>\n",
       "      <td>85.0</td>\n",
       "      <td>516.75</td>\n",
       "      <td>56.0</td>\n",
       "      <td>22696.96</td>\n",
       "      <td>0</td>\n",
       "    </tr>\n",
       "    <tr>\n",
       "      <th>2</th>\n",
       "      <td>77.0</td>\n",
       "      <td>467.66</td>\n",
       "      <td>86.0</td>\n",
       "      <td>21060.45</td>\n",
       "      <td>0</td>\n",
       "    </tr>\n",
       "    <tr>\n",
       "      <th>3</th>\n",
       "      <td>106.0</td>\n",
       "      <td>745.53</td>\n",
       "      <td>81.0</td>\n",
       "      <td>8437.39</td>\n",
       "      <td>1</td>\n",
       "    </tr>\n",
       "    <tr>\n",
       "      <th>4</th>\n",
       "      <td>66.0</td>\n",
       "      <td>418.74</td>\n",
       "      <td>1.0</td>\n",
       "      <td>14502.75</td>\n",
       "      <td>0</td>\n",
       "    </tr>\n",
       "  </tbody>\n",
       "</table>\n",
       "</div>"
      ],
      "text/plain": [
       "   calls  minutes  messages   mb_used  is_ultra\n",
       "0   40.0   311.90      83.0  19915.42         0\n",
       "1   85.0   516.75      56.0  22696.96         0\n",
       "2   77.0   467.66      86.0  21060.45         0\n",
       "3  106.0   745.53      81.0   8437.39         1\n",
       "4   66.0   418.74       1.0  14502.75         0"
      ]
     },
     "execution_count": 3,
     "metadata": {},
     "output_type": "execute_result"
    }
   ],
   "source": [
    "data.head()"
   ]
  },
  {
   "cell_type": "code",
   "execution_count": 4,
   "metadata": {},
   "outputs": [
    {
     "data": {
      "text/plain": [
       "calls       0\n",
       "minutes     0\n",
       "messages    0\n",
       "mb_used     0\n",
       "is_ultra    0\n",
       "dtype: int64"
      ]
     },
     "execution_count": 4,
     "metadata": {},
     "output_type": "execute_result"
    }
   ],
   "source": [
    "data.isna().sum()"
   ]
  },
  {
   "cell_type": "code",
   "execution_count": 5,
   "metadata": {},
   "outputs": [
    {
     "name": "stdout",
     "output_type": "stream",
     "text": [
      "<class 'pandas.core.frame.DataFrame'>\n",
      "RangeIndex: 3214 entries, 0 to 3213\n",
      "Data columns (total 5 columns):\n",
      " #   Column    Non-Null Count  Dtype  \n",
      "---  ------    --------------  -----  \n",
      " 0   calls     3214 non-null   float64\n",
      " 1   minutes   3214 non-null   float64\n",
      " 2   messages  3214 non-null   float64\n",
      " 3   mb_used   3214 non-null   float64\n",
      " 4   is_ultra  3214 non-null   int64  \n",
      "dtypes: float64(4), int64(1)\n",
      "memory usage: 125.7 KB\n"
     ]
    }
   ],
   "source": [
    "data.info()"
   ]
  },
  {
   "cell_type": "code",
   "execution_count": 6,
   "metadata": {},
   "outputs": [
    {
     "data": {
      "text/plain": [
       "array([[<AxesSubplot:title={'center':'calls'}>,\n",
       "        <AxesSubplot:title={'center':'minutes'}>],\n",
       "       [<AxesSubplot:title={'center':'messages'}>,\n",
       "        <AxesSubplot:title={'center':'mb_used'}>],\n",
       "       [<AxesSubplot:title={'center':'is_ultra'}>, <AxesSubplot:>]],\n",
       "      dtype=object)"
      ]
     },
     "execution_count": 6,
     "metadata": {},
     "output_type": "execute_result"
    },
    {
     "data": {
      "image/png": "[encoded data removed]",
      "text/plain": [
       "<Figure size 576x504 with 6 Axes>"
      ]
     },
     "metadata": {
      "needs_background": "light"
     },
     "output_type": "display_data"
    }
   ],
   "source": [
    "data.hist(figsize=(8,7))"
   ]
  },
  {
   "cell_type": "markdown",
   "metadata": {},
   "source": [
    "Данные предобработаны, нет пропусков или аномалий, типы оставим float."
   ]
  },
  {
   "cell_type": "markdown",
   "metadata": {},
   "source": [
    "<a id=\"2.0\"></a>\n",
    "## Разбиение данных на выборки"
   ]
  },
  {
   "cell_type": "code",
   "execution_count": 7,
   "metadata": {},
   "outputs": [],
   "source": [
    "from sklearn.model_selection import train_test_split\n",
    "\n",
    "features = data.drop('is_ultra', axis=1)\n",
    "target = data['is_ultra']\n",
    "\n",
    "features_train, features_valid, target_train, target_valid = train_test_split(\n",
    "    features, target, test_size=.2, random_state=54321)\n",
    "\n",
    "features_train, features_test, target_train, target_test = train_test_split(\n",
    "    features_train, target_train, test_size=.25, random_state=54321)"
   ]
  },
  {
   "cell_type": "markdown",
   "metadata": {},
   "source": [
    "Размеры выборок:"
   ]
  },
  {
   "cell_type": "code",
   "execution_count": 8,
   "metadata": {},
   "outputs": [
    {
     "name": "stdout",
     "output_type": "stream",
     "text": [
      "[0.5998755444928439, 0.2000622277535781, 0.2000622277535781]\n"
     ]
    }
   ],
   "source": [
    "print([f.shape[0]/features.shape[0] for f in [features_train, features_valid, features_test]])"
   ]
  },
  {
   "cell_type": "markdown",
   "metadata": {},
   "source": [
    "<a id=\"3.0\"></a>\n",
    "## Исследование модели"
   ]
  },
  {
   "cell_type": "markdown",
   "metadata": {},
   "source": [
    "### Дерево решений"
   ]
  },
  {
   "cell_type": "code",
   "execution_count": 9,
   "metadata": {},
   "outputs": [
    {
     "name": "stdout",
     "output_type": "stream",
     "text": [
      "max_depth = 1 : 0.7231726283048211\n",
      "max_depth = 3 : 0.7667185069984448\n",
      "max_depth = 5 : 0.7698289269051322\n",
      "max_depth = 7 : 0.776049766718507\n",
      "max_depth = 9 : 0.7558320373250389\n",
      "max_depth = 11 : 0.7465007776049767\n"
     ]
    }
   ],
   "source": [
    "from sklearn.metrics import accuracy_score\n",
    "from sklearn.tree import DecisionTreeClassifier\n",
    "\n",
    "for depth in range(1, 12, 2):\n",
    "    model = DecisionTreeClassifier(max_depth=depth, random_state=54321)\n",
    "    model.fit(features_train, target_train)\n",
    "    accuracy = accuracy_score(target_valid, model.predict(features_valid))\n",
    "    print('max_depth =', depth,': ', end='')\n",
    "    print(accuracy)"
   ]
  },
  {
   "cell_type": "markdown",
   "metadata": {},
   "source": [
    "<a id=\"3.2\"></a>\n",
    "### Случайный лес"
   ]
  },
  {
   "cell_type": "code",
   "execution_count": 10,
   "metadata": {},
   "outputs": [
    {
     "name": "stdout",
     "output_type": "stream",
     "text": [
      "Accuracy наилучшей модели на валидационной выборке: 0.7947122861586314. Количество деревьев: 30. Максимальная глубина:9\n"
     ]
    }
   ],
   "source": [
    "from sklearn.ensemble import RandomForestClassifier\n",
    "\n",
    "best_model = None\n",
    "best_result = 0\n",
    "for est in range(10, 51, 10):\n",
    "    for depth in range (1, 11):\n",
    "        model = RandomForestClassifier(random_state=54321, n_estimators=est, max_depth=depth)\n",
    "        model.fit(features_train, target_train)\n",
    "        result = model.score(features_valid, target_valid)\n",
    "        if result > best_result:\n",
    "            best_model = model\n",
    "            best_result = result\n",
    "            best_est = est\n",
    "            best_depth = depth\n",
    "\n",
    "print(f\"Accuracy наилучшей модели на валидационной выборке: {best_result}. Количество деревьев: {best_est}. Максимальная глубина:{best_depth}\")"
   ]
  },
  {
   "cell_type": "markdown",
   "metadata": {},
   "source": [
    "<a id=\"3.3\"></a>\n",
    "### Линейная регрессия"
   ]
  },
  {
   "cell_type": "code",
   "execution_count": 11,
   "metadata": {},
   "outputs": [
    {
     "name": "stdout",
     "output_type": "stream",
     "text": [
      "Accuracy модели линейной регрессии на валидационной выборке: 0.6734059097978227\n"
     ]
    }
   ],
   "source": [
    "from sklearn.linear_model import LogisticRegression\n",
    "\n",
    "model = LogisticRegression(random_state=54321, solver='lbfgs', max_iter=1000)\n",
    "model.fit(features_train, target_train)\n",
    "\n",
    "result = model.score(features_valid, target_valid)\n",
    "\n",
    "print(\"Accuracy модели линейной регрессии на валидационной выборке:\", result)"
   ]
  },
  {
   "cell_type": "markdown",
   "metadata": {},
   "source": [
    "Лучше всех себя показал случайный лес на 30 деревьев, с максимальной глубиной дерева 9."
   ]
  },
  {
   "cell_type": "markdown",
   "metadata": {},
   "source": [
    "<a id=\"4.0\"></a>\n",
    "## Проверка модели на тестовой выборке"
   ]
  },
  {
   "cell_type": "code",
   "execution_count": 12,
   "metadata": {
    "scrolled": true
   },
   "outputs": [
    {
     "name": "stdout",
     "output_type": "stream",
     "text": [
      "Accuracy наилучшей модели случайного леса на тестовой выборке: 0.8398133748055988 Количество деревьев: 30 Максимальная глубина: 9\n"
     ]
    }
   ],
   "source": [
    "test_result = best_model.score(features_test, target_test)\n",
    "\n",
    "print(\"Accuracy наилучшей модели случайного леса на тестовой выборке:\", test_result, \"Количество деревьев:\", best_est, \"Максимальная глубина:\", best_depth)"
   ]
  },
  {
   "cell_type": "markdown",
   "metadata": {},
   "source": [
    "Результат на тестовой выборке еще лучше, чем на валидационной."
   ]
  },
  {
   "cell_type": "markdown",
   "metadata": {},
   "source": [
    "<a id=\"5.0\"></a>\n",
    "## Проверка модели на адекватность"
   ]
  },
  {
   "cell_type": "code",
   "execution_count": 13,
   "metadata": {},
   "outputs": [
    {
     "name": "stdout",
     "output_type": "stream",
     "text": [
      "Accuracy dummy: 0.7153965785381027\n"
     ]
    }
   ],
   "source": [
    "from sklearn.dummy import DummyClassifier\n",
    "\n",
    "dummy_model = DummyClassifier(strategy='most_frequent').fit(features_train, target_train)\n",
    "prediction_dummy = dummy_model.predict(features_test)\n",
    "\n",
    "print('Accuracy dummy:', accuracy_score(target_test, prediction_dummy))"
   ]
  },
  {
   "cell_type": "markdown",
   "metadata": {},
   "source": [
    "<a id=\"6.0\"></a>\n",
    "## Вывод"
   ]
  },
  {
   "cell_type": "markdown",
   "metadata": {},
   "source": [
    "Мы разбили данные на тренировочную, валидационную и тестовую выборки. Построили несколько предсказательных моделей предложения тарифов, в том числе дерево решений, сад, и логистическую регрессию, перебрали параметры глубины и количества деревьев. В результате наибольшая accuracy 0.79 у сада с 30 деревьев и глубиной дерева 9, что неплохо. И адекватнее, чем DummyClassifier."
   ]
  }
 ],
 "metadata": {
  "ExecuteTimeLog": [
   {
    "duration": 352,
    "start_time": "2022-12-30T03:24:49.477Z"
   },
   {
    "duration": 126,
    "start_time": "2022-12-30T03:24:49.831Z"
   },
   {
    "duration": 15,
    "start_time": "2022-12-30T03:24:49.959Z"
   },
   {
    "duration": 6,
    "start_time": "2022-12-30T03:24:49.975Z"
   },
   {
    "duration": 10,
    "start_time": "2022-12-30T03:24:49.983Z"
   },
   {
    "duration": 863,
    "start_time": "2022-12-30T03:24:49.995Z"
   },
   {
    "duration": 651,
    "start_time": "2022-12-30T03:24:50.860Z"
   },
   {
    "duration": 98,
    "start_time": "2022-12-30T03:25:02.881Z"
   },
   {
    "duration": 4,
    "start_time": "2022-12-30T03:25:07.186Z"
   },
   {
    "duration": 4,
    "start_time": "2022-12-30T03:26:11.833Z"
   },
   {
    "duration": 704,
    "start_time": "2022-12-30T03:27:25.291Z"
   },
   {
    "duration": 15,
    "start_time": "2022-12-30T03:27:37.228Z"
   },
   {
    "duration": 4,
    "start_time": "2022-12-30T03:27:56.486Z"
   },
   {
    "duration": 8,
    "start_time": "2022-12-30T03:28:32.826Z"
   },
   {
    "duration": 4,
    "start_time": "2022-12-30T06:03:27.907Z"
   },
   {
    "duration": 3,
    "start_time": "2022-12-30T06:03:46.956Z"
   },
   {
    "duration": 111,
    "start_time": "2022-12-30T06:07:44.272Z"
   },
   {
    "duration": 44,
    "start_time": "2022-12-30T06:08:47.448Z"
   },
   {
    "duration": 43,
    "start_time": "2022-12-30T06:10:35.949Z"
   },
   {
    "duration": 3380,
    "start_time": "2022-12-30T06:11:33.436Z"
   },
   {
    "duration": 406,
    "start_time": "2022-12-30T06:12:28.311Z"
   },
   {
    "duration": 31,
    "start_time": "2022-12-30T06:12:28.718Z"
   },
   {
    "duration": 17,
    "start_time": "2022-12-30T06:12:28.750Z"
   },
   {
    "duration": 5,
    "start_time": "2022-12-30T06:12:28.770Z"
   },
   {
    "duration": 11,
    "start_time": "2022-12-30T06:12:28.776Z"
   },
   {
    "duration": 674,
    "start_time": "2022-12-30T06:12:28.789Z"
   },
   {
    "duration": 713,
    "start_time": "2022-12-30T06:12:29.465Z"
   },
   {
    "duration": 4,
    "start_time": "2022-12-30T06:12:30.179Z"
   },
   {
    "duration": 91,
    "start_time": "2022-12-30T06:12:30.184Z"
   },
   {
    "duration": 3412,
    "start_time": "2022-12-30T06:12:30.278Z"
   },
   {
    "duration": 26,
    "start_time": "2022-12-30T06:12:33.692Z"
   },
   {
    "duration": 10,
    "start_time": "2022-12-30T06:12:33.719Z"
   },
   {
    "duration": 33,
    "start_time": "2022-12-30T06:12:33.730Z"
   }
  ],
  "kernelspec": {
   "display_name": "Python 3 (ipykernel)",
   "language": "python",
   "name": "python3"
  },
  "language_info": {
   "codemirror_mode": {
    "name": "ipython",
    "version": 3
   },
   "file_extension": ".py",
   "mimetype": "text/x-python",
   "name": "python",
   "nbconvert_exporter": "python",
   "pygments_lexer": "ipython3",
   "version": "3.9.16"
  },
  "toc": {
   "base_numbering": 1,
   "nav_menu": {
    "height": "204px",
    "width": "360px"
   },
   "number_sections": true,
   "sideBar": true,
   "skip_h1_title": true,
   "title_cell": "Table of Contents",
   "title_sidebar": "Contents",
   "toc_cell": false,
   "toc_position": {},
   "toc_section_display": true,
   "toc_window_display": false
  }
 },
 "nbformat": 4,
 "nbformat_minor": 2
}
